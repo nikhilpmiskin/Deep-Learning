{
 "cells": [
  {
   "cell_type": "code",
   "execution_count": 1,
   "metadata": {},
   "outputs": [
    {
     "name": "stderr",
     "output_type": "stream",
     "text": [
      "Using TensorFlow backend.\n"
     ]
    }
   ],
   "source": [
    "import numpy as np\n",
    "import pandas as pd\n",
    "from keras.utils import to_categorical\n",
    "from keras.datasets import cifar10\n",
    "from keras.models import Sequential\n",
    "from keras.layers import Dense, Dropout\n",
    "from keras.models import model_from_json\n",
    "from sklearn.model_selection import train_test_split\n",
    "\n",
    "from keras import optimizers, losses, metrics\n",
    "\n",
    "import matplotlib.pyplot as plt\n",
    "\n",
    "import pandas as pd\n",
    "from sklearn import preprocessing"
   ]
  },
  {
   "cell_type": "code",
   "execution_count": 2,
   "metadata": {},
   "outputs": [
    {
     "data": {
      "text/html": [
       "<div>\n",
       "<style scoped>\n",
       "    .dataframe tbody tr th:only-of-type {\n",
       "        vertical-align: middle;\n",
       "    }\n",
       "\n",
       "    .dataframe tbody tr th {\n",
       "        vertical-align: top;\n",
       "    }\n",
       "\n",
       "    .dataframe thead th {\n",
       "        text-align: right;\n",
       "    }\n",
       "</style>\n",
       "<table border=\"1\" class=\"dataframe\">\n",
       "  <thead>\n",
       "    <tr style=\"text-align: right;\">\n",
       "      <th></th>\n",
       "      <th>0</th>\n",
       "      <th>1</th>\n",
       "      <th>2</th>\n",
       "      <th>3</th>\n",
       "      <th>4</th>\n",
       "      <th>5</th>\n",
       "      <th>6</th>\n",
       "      <th>7</th>\n",
       "      <th>8</th>\n",
       "      <th>9</th>\n",
       "      <th>...</th>\n",
       "      <th>48</th>\n",
       "      <th>49</th>\n",
       "      <th>50</th>\n",
       "      <th>51</th>\n",
       "      <th>52</th>\n",
       "      <th>53</th>\n",
       "      <th>54</th>\n",
       "      <th>55</th>\n",
       "      <th>56</th>\n",
       "      <th>57</th>\n",
       "    </tr>\n",
       "  </thead>\n",
       "  <tbody>\n",
       "    <tr>\n",
       "      <th>0</th>\n",
       "      <td>0.00</td>\n",
       "      <td>0.64</td>\n",
       "      <td>0.64</td>\n",
       "      <td>0.0</td>\n",
       "      <td>0.32</td>\n",
       "      <td>0.00</td>\n",
       "      <td>0.00</td>\n",
       "      <td>0.00</td>\n",
       "      <td>0.00</td>\n",
       "      <td>0.00</td>\n",
       "      <td>...</td>\n",
       "      <td>0.00</td>\n",
       "      <td>0.000</td>\n",
       "      <td>0.0</td>\n",
       "      <td>0.778</td>\n",
       "      <td>0.000</td>\n",
       "      <td>0.000</td>\n",
       "      <td>3.756</td>\n",
       "      <td>61</td>\n",
       "      <td>278</td>\n",
       "      <td>1</td>\n",
       "    </tr>\n",
       "    <tr>\n",
       "      <th>1</th>\n",
       "      <td>0.21</td>\n",
       "      <td>0.28</td>\n",
       "      <td>0.50</td>\n",
       "      <td>0.0</td>\n",
       "      <td>0.14</td>\n",
       "      <td>0.28</td>\n",
       "      <td>0.21</td>\n",
       "      <td>0.07</td>\n",
       "      <td>0.00</td>\n",
       "      <td>0.94</td>\n",
       "      <td>...</td>\n",
       "      <td>0.00</td>\n",
       "      <td>0.132</td>\n",
       "      <td>0.0</td>\n",
       "      <td>0.372</td>\n",
       "      <td>0.180</td>\n",
       "      <td>0.048</td>\n",
       "      <td>5.114</td>\n",
       "      <td>101</td>\n",
       "      <td>1028</td>\n",
       "      <td>1</td>\n",
       "    </tr>\n",
       "    <tr>\n",
       "      <th>2</th>\n",
       "      <td>0.06</td>\n",
       "      <td>0.00</td>\n",
       "      <td>0.71</td>\n",
       "      <td>0.0</td>\n",
       "      <td>1.23</td>\n",
       "      <td>0.19</td>\n",
       "      <td>0.19</td>\n",
       "      <td>0.12</td>\n",
       "      <td>0.64</td>\n",
       "      <td>0.25</td>\n",
       "      <td>...</td>\n",
       "      <td>0.01</td>\n",
       "      <td>0.143</td>\n",
       "      <td>0.0</td>\n",
       "      <td>0.276</td>\n",
       "      <td>0.184</td>\n",
       "      <td>0.010</td>\n",
       "      <td>9.821</td>\n",
       "      <td>485</td>\n",
       "      <td>2259</td>\n",
       "      <td>1</td>\n",
       "    </tr>\n",
       "    <tr>\n",
       "      <th>3</th>\n",
       "      <td>0.00</td>\n",
       "      <td>0.00</td>\n",
       "      <td>0.00</td>\n",
       "      <td>0.0</td>\n",
       "      <td>0.63</td>\n",
       "      <td>0.00</td>\n",
       "      <td>0.31</td>\n",
       "      <td>0.63</td>\n",
       "      <td>0.31</td>\n",
       "      <td>0.63</td>\n",
       "      <td>...</td>\n",
       "      <td>0.00</td>\n",
       "      <td>0.137</td>\n",
       "      <td>0.0</td>\n",
       "      <td>0.137</td>\n",
       "      <td>0.000</td>\n",
       "      <td>0.000</td>\n",
       "      <td>3.537</td>\n",
       "      <td>40</td>\n",
       "      <td>191</td>\n",
       "      <td>1</td>\n",
       "    </tr>\n",
       "    <tr>\n",
       "      <th>4</th>\n",
       "      <td>0.00</td>\n",
       "      <td>0.00</td>\n",
       "      <td>0.00</td>\n",
       "      <td>0.0</td>\n",
       "      <td>0.63</td>\n",
       "      <td>0.00</td>\n",
       "      <td>0.31</td>\n",
       "      <td>0.63</td>\n",
       "      <td>0.31</td>\n",
       "      <td>0.63</td>\n",
       "      <td>...</td>\n",
       "      <td>0.00</td>\n",
       "      <td>0.135</td>\n",
       "      <td>0.0</td>\n",
       "      <td>0.135</td>\n",
       "      <td>0.000</td>\n",
       "      <td>0.000</td>\n",
       "      <td>3.537</td>\n",
       "      <td>40</td>\n",
       "      <td>191</td>\n",
       "      <td>1</td>\n",
       "    </tr>\n",
       "  </tbody>\n",
       "</table>\n",
       "<p>5 rows × 58 columns</p>\n",
       "</div>"
      ],
      "text/plain": [
       "     0     1     2    3     4     5     6     7     8     9   ...    48  \\\n",
       "0  0.00  0.64  0.64  0.0  0.32  0.00  0.00  0.00  0.00  0.00  ...  0.00   \n",
       "1  0.21  0.28  0.50  0.0  0.14  0.28  0.21  0.07  0.00  0.94  ...  0.00   \n",
       "2  0.06  0.00  0.71  0.0  1.23  0.19  0.19  0.12  0.64  0.25  ...  0.01   \n",
       "3  0.00  0.00  0.00  0.0  0.63  0.00  0.31  0.63  0.31  0.63  ...  0.00   \n",
       "4  0.00  0.00  0.00  0.0  0.63  0.00  0.31  0.63  0.31  0.63  ...  0.00   \n",
       "\n",
       "      49   50     51     52     53     54   55    56  57  \n",
       "0  0.000  0.0  0.778  0.000  0.000  3.756   61   278   1  \n",
       "1  0.132  0.0  0.372  0.180  0.048  5.114  101  1028   1  \n",
       "2  0.143  0.0  0.276  0.184  0.010  9.821  485  2259   1  \n",
       "3  0.137  0.0  0.137  0.000  0.000  3.537   40   191   1  \n",
       "4  0.135  0.0  0.135  0.000  0.000  3.537   40   191   1  \n",
       "\n",
       "[5 rows x 58 columns]"
      ]
     },
     "execution_count": 2,
     "metadata": {},
     "output_type": "execute_result"
    }
   ],
   "source": [
    "data = pd.read_csv(\"spambase.data\", header=-1)\n",
    "data.head(5)"
   ]
  },
  {
   "cell_type": "markdown",
   "metadata": {},
   "source": [
    "#### Coverting data into tensors"
   ]
  },
  {
   "cell_type": "code",
   "execution_count": 3,
   "metadata": {},
   "outputs": [
    {
     "name": "stdout",
     "output_type": "stream",
     "text": [
      "(4601, 57)\n",
      "(4601,)\n"
     ]
    }
   ],
   "source": [
    "dataX = data.to_numpy()[:,:-1]\n",
    "dataY = data.to_numpy()[:,-1].astype('int32')\n",
    "print(dataX.shape)\n",
    "print(dataY.shape)"
   ]
  },
  {
   "cell_type": "markdown",
   "metadata": {},
   "source": [
    "#### Normalizing  Input features"
   ]
  },
  {
   "cell_type": "code",
   "execution_count": 4,
   "metadata": {},
   "outputs": [],
   "source": [
    "def normalizeData(data, test):\n",
    "    mean = data.mean(axis=0)\n",
    "    std = data.std(axis=0)\n",
    "    data -= mean\n",
    "    data /= std\n",
    "    test -= mean\n",
    "    test /= std\n",
    "    return data, test"
   ]
  },
  {
   "cell_type": "code",
   "execution_count": 5,
   "metadata": {},
   "outputs": [
    {
     "data": {
      "text/html": [
       "<div>\n",
       "<style scoped>\n",
       "    .dataframe tbody tr th:only-of-type {\n",
       "        vertical-align: middle;\n",
       "    }\n",
       "\n",
       "    .dataframe tbody tr th {\n",
       "        vertical-align: top;\n",
       "    }\n",
       "\n",
       "    .dataframe thead th {\n",
       "        text-align: right;\n",
       "    }\n",
       "</style>\n",
       "<table border=\"1\" class=\"dataframe\">\n",
       "  <thead>\n",
       "    <tr style=\"text-align: right;\">\n",
       "      <th></th>\n",
       "      <th>0</th>\n",
       "      <th>1</th>\n",
       "      <th>2</th>\n",
       "      <th>3</th>\n",
       "      <th>4</th>\n",
       "      <th>5</th>\n",
       "      <th>6</th>\n",
       "      <th>7</th>\n",
       "      <th>8</th>\n",
       "      <th>9</th>\n",
       "      <th>...</th>\n",
       "      <th>47</th>\n",
       "      <th>48</th>\n",
       "      <th>49</th>\n",
       "      <th>50</th>\n",
       "      <th>51</th>\n",
       "      <th>52</th>\n",
       "      <th>53</th>\n",
       "      <th>54</th>\n",
       "      <th>55</th>\n",
       "      <th>56</th>\n",
       "    </tr>\n",
       "  </thead>\n",
       "  <tbody>\n",
       "    <tr>\n",
       "      <th>0</th>\n",
       "      <td>-1.463974</td>\n",
       "      <td>0.091342</td>\n",
       "      <td>0.857395</td>\n",
       "      <td>-0.080519</td>\n",
       "      <td>-0.447116</td>\n",
       "      <td>-1.629570</td>\n",
       "      <td>-1.037309</td>\n",
       "      <td>-0.917283</td>\n",
       "      <td>-1.483816</td>\n",
       "      <td>-0.947404</td>\n",
       "      <td>...</td>\n",
       "      <td>-0.501973</td>\n",
       "      <td>-0.809333</td>\n",
       "      <td>-2.416849</td>\n",
       "      <td>-1.574053</td>\n",
       "      <td>0.435193</td>\n",
       "      <td>-1.562568</td>\n",
       "      <td>-0.343089</td>\n",
       "      <td>-0.165062</td>\n",
       "      <td>-0.267499</td>\n",
       "      <td>-0.467271</td>\n",
       "    </tr>\n",
       "    <tr>\n",
       "      <th>1</th>\n",
       "      <td>0.788689</td>\n",
       "      <td>-0.124846</td>\n",
       "      <td>0.306441</td>\n",
       "      <td>-0.080519</td>\n",
       "      <td>-0.845192</td>\n",
       "      <td>2.105589</td>\n",
       "      <td>0.333510</td>\n",
       "      <td>-0.482023</td>\n",
       "      <td>-1.483816</td>\n",
       "      <td>1.314282</td>\n",
       "      <td>...</td>\n",
       "      <td>-0.501973</td>\n",
       "      <td>-0.809333</td>\n",
       "      <td>-0.610513</td>\n",
       "      <td>-1.574053</td>\n",
       "      <td>-0.175172</td>\n",
       "      <td>1.415354</td>\n",
       "      <td>-0.082637</td>\n",
       "      <td>-0.163713</td>\n",
       "      <td>-0.266445</td>\n",
       "      <td>-0.465231</td>\n",
       "    </tr>\n",
       "    <tr>\n",
       "      <th>2</th>\n",
       "      <td>-0.820356</td>\n",
       "      <td>-0.292992</td>\n",
       "      <td>1.132871</td>\n",
       "      <td>-0.080519</td>\n",
       "      <td>1.565378</td>\n",
       "      <td>0.905002</td>\n",
       "      <td>0.202956</td>\n",
       "      <td>-0.171123</td>\n",
       "      <td>6.762552</td>\n",
       "      <td>-0.345892</td>\n",
       "      <td>...</td>\n",
       "      <td>-0.501973</td>\n",
       "      <td>-0.640601</td>\n",
       "      <td>-0.459986</td>\n",
       "      <td>-1.574053</td>\n",
       "      <td>-0.319495</td>\n",
       "      <td>1.481530</td>\n",
       "      <td>-0.288828</td>\n",
       "      <td>-0.159037</td>\n",
       "      <td>-0.256333</td>\n",
       "      <td>-0.461882</td>\n",
       "    </tr>\n",
       "    <tr>\n",
       "      <th>3</th>\n",
       "      <td>-1.463974</td>\n",
       "      <td>-0.292992</td>\n",
       "      <td>-1.661251</td>\n",
       "      <td>-0.080519</td>\n",
       "      <td>0.238459</td>\n",
       "      <td>-1.629570</td>\n",
       "      <td>0.986281</td>\n",
       "      <td>3.000059</td>\n",
       "      <td>2.510518</td>\n",
       "      <td>0.568407</td>\n",
       "      <td>...</td>\n",
       "      <td>-0.501973</td>\n",
       "      <td>-0.809333</td>\n",
       "      <td>-0.542092</td>\n",
       "      <td>-1.574053</td>\n",
       "      <td>-0.528463</td>\n",
       "      <td>-1.562568</td>\n",
       "      <td>-0.343089</td>\n",
       "      <td>-0.165280</td>\n",
       "      <td>-0.268052</td>\n",
       "      <td>-0.467508</td>\n",
       "    </tr>\n",
       "    <tr>\n",
       "      <th>4</th>\n",
       "      <td>-1.463974</td>\n",
       "      <td>-0.292992</td>\n",
       "      <td>-1.661251</td>\n",
       "      <td>-0.080519</td>\n",
       "      <td>0.238459</td>\n",
       "      <td>-1.629570</td>\n",
       "      <td>0.986281</td>\n",
       "      <td>3.000059</td>\n",
       "      <td>2.510518</td>\n",
       "      <td>0.568407</td>\n",
       "      <td>...</td>\n",
       "      <td>-0.501973</td>\n",
       "      <td>-0.809333</td>\n",
       "      <td>-0.569460</td>\n",
       "      <td>-1.574053</td>\n",
       "      <td>-0.531469</td>\n",
       "      <td>-1.562568</td>\n",
       "      <td>-0.343089</td>\n",
       "      <td>-0.165280</td>\n",
       "      <td>-0.268052</td>\n",
       "      <td>-0.467508</td>\n",
       "    </tr>\n",
       "  </tbody>\n",
       "</table>\n",
       "<p>5 rows × 57 columns</p>\n",
       "</div>"
      ],
      "text/plain": [
       "         0         1         2         3         4         5         6   \\\n",
       "0 -1.463974  0.091342  0.857395 -0.080519 -0.447116 -1.629570 -1.037309   \n",
       "1  0.788689 -0.124846  0.306441 -0.080519 -0.845192  2.105589  0.333510   \n",
       "2 -0.820356 -0.292992  1.132871 -0.080519  1.565378  0.905002  0.202956   \n",
       "3 -1.463974 -0.292992 -1.661251 -0.080519  0.238459 -1.629570  0.986281   \n",
       "4 -1.463974 -0.292992 -1.661251 -0.080519  0.238459 -1.629570  0.986281   \n",
       "\n",
       "         7         8         9   ...        47        48        49        50  \\\n",
       "0 -0.917283 -1.483816 -0.947404  ... -0.501973 -0.809333 -2.416849 -1.574053   \n",
       "1 -0.482023 -1.483816  1.314282  ... -0.501973 -0.809333 -0.610513 -1.574053   \n",
       "2 -0.171123  6.762552 -0.345892  ... -0.501973 -0.640601 -0.459986 -1.574053   \n",
       "3  3.000059  2.510518  0.568407  ... -0.501973 -0.809333 -0.542092 -1.574053   \n",
       "4  3.000059  2.510518  0.568407  ... -0.501973 -0.809333 -0.569460 -1.574053   \n",
       "\n",
       "         51        52        53        54        55        56  \n",
       "0  0.435193 -1.562568 -0.343089 -0.165062 -0.267499 -0.467271  \n",
       "1 -0.175172  1.415354 -0.082637 -0.163713 -0.266445 -0.465231  \n",
       "2 -0.319495  1.481530 -0.288828 -0.159037 -0.256333 -0.461882  \n",
       "3 -0.528463 -1.562568 -0.343089 -0.165280 -0.268052 -0.467508  \n",
       "4 -0.531469 -1.562568 -0.343089 -0.165280 -0.268052 -0.467508  \n",
       "\n",
       "[5 rows x 57 columns]"
      ]
     },
     "execution_count": 5,
     "metadata": {},
     "output_type": "execute_result"
    }
   ],
   "source": [
    "dataX_norm, _ = normalizeData(dataX, dataX)\n",
    "pd.DataFrame(dataX_norm).head(5)"
   ]
  },
  {
   "cell_type": "markdown",
   "metadata": {},
   "source": [
    "#### Function to load spam data"
   ]
  },
  {
   "cell_type": "code",
   "execution_count": 6,
   "metadata": {},
   "outputs": [],
   "source": [
    "def load_spam_data():\n",
    "    data = pd.read_csv(\"spambase.data\", header=-1)\n",
    "    dataX = data.to_numpy()[:,:-1]\n",
    "    dataY = data.to_numpy()[:,-1].astype('int32')\n",
    "    dataY = np.reshape(dataY, (dataY.shape[0], 1))\n",
    "    return train_test_split(dataX, dataY, test_size=0.3, random_state=42)"
   ]
  },
  {
   "cell_type": "code",
   "execution_count": 7,
   "metadata": {},
   "outputs": [],
   "source": [
    "train_X, test_X, train_Y, test_Y = load_spam_data()"
   ]
  },
  {
   "cell_type": "code",
   "execution_count": 8,
   "metadata": {},
   "outputs": [],
   "source": [
    "train_X, test_X = normalizeData(train_X, test_X)"
   ]
  },
  {
   "cell_type": "code",
   "execution_count": 9,
   "metadata": {},
   "outputs": [
    {
     "data": {
      "text/plain": [
       "(array([0, 1]), array([1984, 1236], dtype=int64))"
      ]
     },
     "execution_count": 9,
     "metadata": {},
     "output_type": "execute_result"
    }
   ],
   "source": [
    "#Checking distribution of targets in training data\n",
    "np.unique(train_Y, return_counts=True)"
   ]
  },
  {
   "cell_type": "code",
   "execution_count": 10,
   "metadata": {},
   "outputs": [],
   "source": [
    "train_X, val_X, train_Y, val_Y = train_test_split(train_X, train_Y, test_size=0.2, random_state=42)"
   ]
  },
  {
   "cell_type": "code",
   "execution_count": 11,
   "metadata": {},
   "outputs": [
    {
     "data": {
      "text/plain": [
       "(2576, 57)"
      ]
     },
     "execution_count": 11,
     "metadata": {},
     "output_type": "execute_result"
    }
   ],
   "source": [
    "train_X.shape"
   ]
  },
  {
   "cell_type": "code",
   "execution_count": 12,
   "metadata": {},
   "outputs": [
    {
     "data": {
      "text/plain": [
       "(2576, 1)"
      ]
     },
     "execution_count": 12,
     "metadata": {},
     "output_type": "execute_result"
    }
   ],
   "source": [
    "train_Y.shape"
   ]
  },
  {
   "cell_type": "code",
   "execution_count": 13,
   "metadata": {},
   "outputs": [
    {
     "data": {
      "text/plain": [
       "(644, 57)"
      ]
     },
     "execution_count": 13,
     "metadata": {},
     "output_type": "execute_result"
    }
   ],
   "source": [
    "val_X.shape"
   ]
  },
  {
   "cell_type": "code",
   "execution_count": 14,
   "metadata": {},
   "outputs": [
    {
     "data": {
      "text/plain": [
       "(644, 1)"
      ]
     },
     "execution_count": 14,
     "metadata": {},
     "output_type": "execute_result"
    }
   ],
   "source": [
    "val_Y.shape"
   ]
  },
  {
   "cell_type": "markdown",
   "metadata": {},
   "source": [
    "#### Run this to load model from json file"
   ]
  },
  {
   "cell_type": "code",
   "execution_count": 26,
   "metadata": {},
   "outputs": [
    {
     "name": "stdout",
     "output_type": "stream",
     "text": [
      "Loaded model from disk\n"
     ]
    }
   ],
   "source": [
    "json_file = open('task2model.json', 'r')\n",
    "model_json = json_file.read()\n",
    "json_file.close()\n",
    "model = model_from_json(model_json)\n",
    "\n",
    "model.load_weights(\"task2weights.h5\")\n",
    "print(\"Loaded model from disk\")\n",
    "\n",
    "model.compile(loss=losses.binary_crossentropy,\n",
    "              optimizer=optimizers.RMSprop(lr=0.001),\n",
    "              metrics=[metrics.binary_accuracy])"
   ]
  },
  {
   "cell_type": "markdown",
   "metadata": {},
   "source": [
    "#### Build Neural Network"
   ]
  },
  {
   "cell_type": "code",
   "execution_count": 16,
   "metadata": {},
   "outputs": [],
   "source": [
    "inputDim = train_X.shape[1]\n",
    "outputDim = train_Y.shape[1]\n",
    "num_epochs = 100\n",
    "\n",
    "nlayers = 2\n",
    "nnodes = [64]\n",
    "\n",
    "model = Sequential()\n",
    "model.add(Dense(nnodes[0], input_dim=inputDim, activation='relu'))\n",
    "\n",
    "for i in range(1, nlayers):  #Adding hidden layers\n",
    "    model.add(Dense(nnodes[i-1], activation='relu'))\n",
    "    \n",
    "model.add(Dense(outputDim, activation='sigmoid')) # Adding output layer"
   ]
  },
  {
   "cell_type": "code",
   "execution_count": 17,
   "metadata": {},
   "outputs": [
    {
     "name": "stdout",
     "output_type": "stream",
     "text": [
      "WARNING:tensorflow:From C:\\Users\\nikhi\\Anaconda3\\lib\\site-packages\\tensorflow\\python\\ops\\nn_impl.py:180: add_dispatch_support.<locals>.wrapper (from tensorflow.python.ops.array_ops) is deprecated and will be removed in a future version.\n",
      "Instructions for updating:\n",
      "Use tf.where in 2.0, which has the same broadcast rule as np.where\n"
     ]
    }
   ],
   "source": [
    "model.compile(loss=losses.binary_crossentropy,\n",
    "              optimizer=optimizers.RMSprop(lr=0.001),\n",
    "              metrics=[metrics.binary_accuracy])"
   ]
  },
  {
   "cell_type": "code",
   "execution_count": 18,
   "metadata": {},
   "outputs": [
    {
     "name": "stdout",
     "output_type": "stream",
     "text": [
      "WARNING:tensorflow:From C:\\Users\\nikhi\\Anaconda3\\lib\\site-packages\\keras\\backend\\tensorflow_backend.py:422: The name tf.global_variables is deprecated. Please use tf.compat.v1.global_variables instead.\n",
      "\n",
      "Train on 2576 samples, validate on 644 samples\n",
      "Epoch 1/100\n",
      "2576/2576 [==============================] - 0s 125us/step - loss: 0.6669 - binary_accuracy: 0.6332 - val_loss: 0.5480 - val_binary_accuracy: 0.7935\n",
      "Epoch 2/100\n",
      "2576/2576 [==============================] - 0s 3us/step - loss: 0.5029 - binary_accuracy: 0.8144 - val_loss: 0.4584 - val_binary_accuracy: 0.8602\n",
      "Epoch 3/100\n",
      "2576/2576 [==============================] - 0s 3us/step - loss: 0.4248 - binary_accuracy: 0.8560 - val_loss: 0.3957 - val_binary_accuracy: 0.8789\n",
      "Epoch 4/100\n",
      "2576/2576 [==============================] - 0s 6us/step - loss: 0.3686 - binary_accuracy: 0.8769 - val_loss: 0.3572 - val_binary_accuracy: 0.8882\n",
      "Epoch 5/100\n",
      "2576/2576 [==============================] - 0s 7us/step - loss: 0.3329 - binary_accuracy: 0.8874 - val_loss: 0.3388 - val_binary_accuracy: 0.8727\n",
      "Epoch 6/100\n",
      "2576/2576 [==============================] - 0s 6us/step - loss: 0.3058 - binary_accuracy: 0.8874 - val_loss: 0.3059 - val_binary_accuracy: 0.8991\n",
      "Epoch 7/100\n",
      "2576/2576 [==============================] - 0s 5us/step - loss: 0.2835 - binary_accuracy: 0.9010 - val_loss: 0.2932 - val_binary_accuracy: 0.9006\n",
      "Epoch 8/100\n",
      "2576/2576 [==============================] - 0s 6us/step - loss: 0.2680 - binary_accuracy: 0.9053 - val_loss: 0.2775 - val_binary_accuracy: 0.9115\n",
      "Epoch 9/100\n",
      "2576/2576 [==============================] - 0s 5us/step - loss: 0.2526 - binary_accuracy: 0.9127 - val_loss: 0.2674 - val_binary_accuracy: 0.9115\n",
      "Epoch 10/100\n",
      "2576/2576 [==============================] - 0s 6us/step - loss: 0.2420 - binary_accuracy: 0.9185 - val_loss: 0.2631 - val_binary_accuracy: 0.9099\n",
      "Epoch 11/100\n",
      "2576/2576 [==============================] - 0s 6us/step - loss: 0.2320 - binary_accuracy: 0.9208 - val_loss: 0.2538 - val_binary_accuracy: 0.9115\n",
      "Epoch 12/100\n",
      "2576/2576 [==============================] - 0s 5us/step - loss: 0.2224 - binary_accuracy: 0.9216 - val_loss: 0.2531 - val_binary_accuracy: 0.9130\n",
      "Epoch 13/100\n",
      "2576/2576 [==============================] - 0s 5us/step - loss: 0.2158 - binary_accuracy: 0.9243 - val_loss: 0.2457 - val_binary_accuracy: 0.9177\n",
      "Epoch 14/100\n",
      "2576/2576 [==============================] - 0s 8us/step - loss: 0.2075 - binary_accuracy: 0.9286 - val_loss: 0.2439 - val_binary_accuracy: 0.9146\n",
      "Epoch 15/100\n",
      "2576/2576 [==============================] - 0s 4us/step - loss: 0.2024 - binary_accuracy: 0.9278 - val_loss: 0.2335 - val_binary_accuracy: 0.9224\n",
      "Epoch 16/100\n",
      "2576/2576 [==============================] - 0s 6us/step - loss: 0.1949 - binary_accuracy: 0.9336 - val_loss: 0.2308 - val_binary_accuracy: 0.9255\n",
      "Epoch 17/100\n",
      "2576/2576 [==============================] - 0s 7us/step - loss: 0.1907 - binary_accuracy: 0.9344 - val_loss: 0.2314 - val_binary_accuracy: 0.9224\n",
      "Epoch 18/100\n",
      "2576/2576 [==============================] - 0s 7us/step - loss: 0.1853 - binary_accuracy: 0.9348 - val_loss: 0.2315 - val_binary_accuracy: 0.9239\n",
      "Epoch 19/100\n",
      "2576/2576 [==============================] - 0s 6us/step - loss: 0.1850 - binary_accuracy: 0.9363 - val_loss: 0.2244 - val_binary_accuracy: 0.9255\n",
      "Epoch 20/100\n",
      "2576/2576 [==============================] - 0s 6us/step - loss: 0.1775 - binary_accuracy: 0.9352 - val_loss: 0.2226 - val_binary_accuracy: 0.9286\n",
      "Epoch 21/100\n",
      "2576/2576 [==============================] - 0s 7us/step - loss: 0.1744 - binary_accuracy: 0.9356 - val_loss: 0.2231 - val_binary_accuracy: 0.9286\n",
      "Epoch 22/100\n",
      "2576/2576 [==============================] - 0s 6us/step - loss: 0.1714 - binary_accuracy: 0.9391 - val_loss: 0.2233 - val_binary_accuracy: 0.9301\n",
      "Epoch 23/100\n",
      "2576/2576 [==============================] - 0s 6us/step - loss: 0.1677 - binary_accuracy: 0.9391 - val_loss: 0.2219 - val_binary_accuracy: 0.9301\n",
      "Epoch 24/100\n",
      "2576/2576 [==============================] - 0s 6us/step - loss: 0.1652 - binary_accuracy: 0.9402 - val_loss: 0.2223 - val_binary_accuracy: 0.9286\n",
      "Epoch 25/100\n",
      "2576/2576 [==============================] - 0s 6us/step - loss: 0.1611 - binary_accuracy: 0.9414 - val_loss: 0.2201 - val_binary_accuracy: 0.9286\n",
      "Epoch 26/100\n",
      "2576/2576 [==============================] - 0s 4us/step - loss: 0.1581 - binary_accuracy: 0.9422 - val_loss: 0.2211 - val_binary_accuracy: 0.9255\n",
      "Epoch 27/100\n",
      "2576/2576 [==============================] - 0s 7us/step - loss: 0.1545 - binary_accuracy: 0.9441 - val_loss: 0.2188 - val_binary_accuracy: 0.9270\n",
      "Epoch 28/100\n",
      "2576/2576 [==============================] - 0s 6us/step - loss: 0.1524 - binary_accuracy: 0.9433 - val_loss: 0.2202 - val_binary_accuracy: 0.9224\n",
      "Epoch 29/100\n",
      "2576/2576 [==============================] - 0s 4us/step - loss: 0.1506 - binary_accuracy: 0.9445 - val_loss: 0.2222 - val_binary_accuracy: 0.9239\n",
      "Epoch 30/100\n",
      "2576/2576 [==============================] - 0s 5us/step - loss: 0.1484 - binary_accuracy: 0.9484 - val_loss: 0.2187 - val_binary_accuracy: 0.9208\n",
      "Epoch 31/100\n",
      "2576/2576 [==============================] - 0s 4us/step - loss: 0.1455 - binary_accuracy: 0.9453 - val_loss: 0.2162 - val_binary_accuracy: 0.9239\n",
      "Epoch 32/100\n",
      "2576/2576 [==============================] - 0s 1us/step - loss: 0.1447 - binary_accuracy: 0.9464 - val_loss: 0.2162 - val_binary_accuracy: 0.9224\n",
      "Epoch 33/100\n",
      "2576/2576 [==============================] - 0s 6us/step - loss: 0.1415 - binary_accuracy: 0.9472 - val_loss: 0.2141 - val_binary_accuracy: 0.9239\n",
      "Epoch 34/100\n",
      "2576/2576 [==============================] - 0s 2us/step - loss: 0.1387 - binary_accuracy: 0.9472 - val_loss: 0.2141 - val_binary_accuracy: 0.9270\n",
      "Epoch 35/100\n",
      "2576/2576 [==============================] - 0s 5us/step - loss: 0.1370 - binary_accuracy: 0.9484 - val_loss: 0.2255 - val_binary_accuracy: 0.9177\n",
      "Epoch 36/100\n",
      "2576/2576 [==============================] - 0s 6us/step - loss: 0.1401 - binary_accuracy: 0.9476 - val_loss: 0.2135 - val_binary_accuracy: 0.9224\n",
      "Epoch 37/100\n",
      "2576/2576 [==============================] - 0s 1us/step - loss: 0.1337 - binary_accuracy: 0.9484 - val_loss: 0.2120 - val_binary_accuracy: 0.9270\n",
      "Epoch 38/100\n",
      "2576/2576 [==============================] - 0s 4us/step - loss: 0.1317 - binary_accuracy: 0.9499 - val_loss: 0.2186 - val_binary_accuracy: 0.9270\n",
      "Epoch 39/100\n",
      "2576/2576 [==============================] - 0s 6us/step - loss: 0.1317 - binary_accuracy: 0.9499 - val_loss: 0.2157 - val_binary_accuracy: 0.9270\n",
      "Epoch 40/100\n",
      "2576/2576 [==============================] - 0s 6us/step - loss: 0.1289 - binary_accuracy: 0.9523 - val_loss: 0.2138 - val_binary_accuracy: 0.9193\n",
      "Epoch 41/100\n",
      "2576/2576 [==============================] - 0s 6us/step - loss: 0.1275 - binary_accuracy: 0.9538 - val_loss: 0.2120 - val_binary_accuracy: 0.9208\n",
      "Epoch 42/100\n",
      "2576/2576 [==============================] - 0s 4us/step - loss: 0.1256 - binary_accuracy: 0.9530 - val_loss: 0.2147 - val_binary_accuracy: 0.9255\n",
      "Epoch 43/100\n",
      "2576/2576 [==============================] - 0s 9us/step - loss: 0.1257 - binary_accuracy: 0.9534 - val_loss: 0.2180 - val_binary_accuracy: 0.9270\n",
      "Epoch 44/100\n",
      "2576/2576 [==============================] - 0s 6us/step - loss: 0.1245 - binary_accuracy: 0.9546 - val_loss: 0.2125 - val_binary_accuracy: 0.9255\n",
      "Epoch 45/100\n",
      "2576/2576 [==============================] - 0s 6us/step - loss: 0.1213 - binary_accuracy: 0.9557 - val_loss: 0.2138 - val_binary_accuracy: 0.9208\n",
      "Epoch 46/100\n",
      "2576/2576 [==============================] - 0s 6us/step - loss: 0.1205 - binary_accuracy: 0.9542 - val_loss: 0.2157 - val_binary_accuracy: 0.9224\n",
      "Epoch 47/100\n",
      "2576/2576 [==============================] - 0s 4us/step - loss: 0.1192 - binary_accuracy: 0.9557 - val_loss: 0.2211 - val_binary_accuracy: 0.9270\n",
      "Epoch 48/100\n",
      "2576/2576 [==============================] - 0s 3us/step - loss: 0.1197 - binary_accuracy: 0.9557 - val_loss: 0.2163 - val_binary_accuracy: 0.9255\n",
      "Epoch 49/100\n",
      "2576/2576 [==============================] - 0s 5us/step - loss: 0.1172 - binary_accuracy: 0.9569 - val_loss: 0.2170 - val_binary_accuracy: 0.9255\n",
      "Epoch 50/100\n",
      "2576/2576 [==============================] - 0s 8us/step - loss: 0.1152 - binary_accuracy: 0.9589 - val_loss: 0.2263 - val_binary_accuracy: 0.9270\n"
     ]
    },
    {
     "name": "stdout",
     "output_type": "stream",
     "text": [
      "Epoch 51/100\n",
      "2576/2576 [==============================] - 0s 1us/step - loss: 0.1175 - binary_accuracy: 0.9573 - val_loss: 0.2154 - val_binary_accuracy: 0.9239\n",
      "Epoch 52/100\n",
      "2576/2576 [==============================] - 0s 7us/step - loss: 0.1131 - binary_accuracy: 0.9585 - val_loss: 0.2177 - val_binary_accuracy: 0.9239\n",
      "Epoch 53/100\n",
      "2576/2576 [==============================] - 0s 6us/step - loss: 0.1115 - binary_accuracy: 0.9589 - val_loss: 0.2210 - val_binary_accuracy: 0.9286\n",
      "Epoch 54/100\n",
      "2576/2576 [==============================] - 0s 5us/step - loss: 0.1117 - binary_accuracy: 0.9592 - val_loss: 0.2158 - val_binary_accuracy: 0.9270\n",
      "Epoch 55/100\n",
      "2576/2576 [==============================] - 0s 5us/step - loss: 0.1086 - binary_accuracy: 0.9596 - val_loss: 0.2157 - val_binary_accuracy: 0.9255\n",
      "Epoch 56/100\n",
      "2576/2576 [==============================] - 0s 11us/step - loss: 0.1083 - binary_accuracy: 0.9620 - val_loss: 0.2120 - val_binary_accuracy: 0.9301\n",
      "Epoch 57/100\n",
      "2576/2576 [==============================] - 0s 7us/step - loss: 0.1062 - binary_accuracy: 0.9604 - val_loss: 0.2151 - val_binary_accuracy: 0.9301\n",
      "Epoch 58/100\n",
      "2576/2576 [==============================] - 0s 16us/step - loss: 0.1048 - binary_accuracy: 0.9635 - val_loss: 0.2182 - val_binary_accuracy: 0.9270\n",
      "Epoch 59/100\n",
      "2576/2576 [==============================] - 0s 9us/step - loss: 0.1051 - binary_accuracy: 0.9620 - val_loss: 0.2240 - val_binary_accuracy: 0.9286\n",
      "Epoch 60/100\n",
      "2576/2576 [==============================] - 0s 10us/step - loss: 0.1061 - binary_accuracy: 0.9658 - val_loss: 0.2145 - val_binary_accuracy: 0.9317\n",
      "Epoch 61/100\n",
      "2576/2576 [==============================] - 0s 13us/step - loss: 0.1007 - binary_accuracy: 0.9639 - val_loss: 0.2128 - val_binary_accuracy: 0.9286\n",
      "Epoch 62/100\n",
      "2576/2576 [==============================] - 0s 10us/step - loss: 0.1008 - binary_accuracy: 0.9600 - val_loss: 0.2183 - val_binary_accuracy: 0.9270\n",
      "Epoch 63/100\n",
      "2576/2576 [==============================] - 0s 13us/step - loss: 0.1008 - binary_accuracy: 0.9631 - val_loss: 0.2226 - val_binary_accuracy: 0.9332\n",
      "Epoch 64/100\n",
      "2576/2576 [==============================] - 0s 10us/step - loss: 0.1022 - binary_accuracy: 0.9623 - val_loss: 0.2115 - val_binary_accuracy: 0.9332\n",
      "Epoch 65/100\n",
      "2576/2576 [==============================] - 0s 10us/step - loss: 0.0975 - binary_accuracy: 0.9655 - val_loss: 0.2112 - val_binary_accuracy: 0.9317\n",
      "Epoch 66/100\n",
      "2576/2576 [==============================] - 0s 9us/step - loss: 0.0971 - binary_accuracy: 0.9647 - val_loss: 0.2148 - val_binary_accuracy: 0.9301\n",
      "Epoch 67/100\n",
      "2576/2576 [==============================] - 0s 11us/step - loss: 0.0949 - binary_accuracy: 0.9666 - val_loss: 0.2137 - val_binary_accuracy: 0.9301\n",
      "Epoch 68/100\n",
      "2576/2576 [==============================] - 0s 13us/step - loss: 0.0950 - binary_accuracy: 0.9651 - val_loss: 0.2204 - val_binary_accuracy: 0.9286\n",
      "Epoch 69/100\n",
      "2576/2576 [==============================] - 0s 9us/step - loss: 0.0947 - binary_accuracy: 0.9689 - val_loss: 0.2252 - val_binary_accuracy: 0.9348\n",
      "Epoch 70/100\n",
      "2576/2576 [==============================] - 0s 13us/step - loss: 0.0936 - binary_accuracy: 0.9697 - val_loss: 0.2172 - val_binary_accuracy: 0.9332\n",
      "Epoch 71/100\n",
      "2576/2576 [==============================] - 0s 11us/step - loss: 0.0906 - binary_accuracy: 0.9697 - val_loss: 0.2234 - val_binary_accuracy: 0.9286\n",
      "Epoch 72/100\n",
      "2576/2576 [==============================] - 0s 7us/step - loss: 0.0915 - binary_accuracy: 0.9697 - val_loss: 0.2158 - val_binary_accuracy: 0.9301\n",
      "Epoch 73/100\n",
      "2576/2576 [==============================] - 0s 7us/step - loss: 0.0897 - binary_accuracy: 0.9701 - val_loss: 0.2239 - val_binary_accuracy: 0.9301\n",
      "Epoch 74/100\n",
      "2576/2576 [==============================] - 0s 6us/step - loss: 0.0888 - binary_accuracy: 0.9701 - val_loss: 0.2160 - val_binary_accuracy: 0.9348\n",
      "Epoch 75/100\n",
      "2576/2576 [==============================] - 0s 15us/step - loss: 0.0864 - binary_accuracy: 0.9689 - val_loss: 0.2263 - val_binary_accuracy: 0.9348\n",
      "Epoch 76/100\n",
      "2576/2576 [==============================] - 0s 5us/step - loss: 0.0881 - binary_accuracy: 0.9717 - val_loss: 0.2213 - val_binary_accuracy: 0.9317\n",
      "Epoch 77/100\n",
      "2576/2576 [==============================] - 0s 6us/step - loss: 0.0846 - binary_accuracy: 0.9709 - val_loss: 0.2225 - val_binary_accuracy: 0.9301\n",
      "Epoch 78/100\n",
      "2576/2576 [==============================] - 0s 6us/step - loss: 0.0840 - binary_accuracy: 0.9724 - val_loss: 0.2285 - val_binary_accuracy: 0.9270\n",
      "Epoch 79/100\n",
      "2576/2576 [==============================] - 0s 7us/step - loss: 0.0830 - binary_accuracy: 0.9728 - val_loss: 0.2349 - val_binary_accuracy: 0.9348\n",
      "Epoch 80/100\n",
      "2576/2576 [==============================] - 0s 6us/step - loss: 0.0843 - binary_accuracy: 0.9736 - val_loss: 0.2379 - val_binary_accuracy: 0.9332\n",
      "Epoch 81/100\n",
      "2576/2576 [==============================] - 0s 9us/step - loss: 0.0856 - binary_accuracy: 0.9732 - val_loss: 0.2266 - val_binary_accuracy: 0.9301\n",
      "Epoch 82/100\n",
      "2576/2576 [==============================] - 0s 8us/step - loss: 0.0808 - binary_accuracy: 0.9720 - val_loss: 0.2245 - val_binary_accuracy: 0.9301\n",
      "Epoch 83/100\n",
      "2576/2576 [==============================] - 0s 5us/step - loss: 0.0803 - binary_accuracy: 0.9732 - val_loss: 0.2403 - val_binary_accuracy: 0.9239\n",
      "Epoch 84/100\n",
      "2576/2576 [==============================] - 0s 5us/step - loss: 0.0826 - binary_accuracy: 0.9728 - val_loss: 0.2288 - val_binary_accuracy: 0.9301\n",
      "Epoch 85/100\n",
      "2576/2576 [==============================] - 0s 13us/step - loss: 0.0780 - binary_accuracy: 0.9736 - val_loss: 0.2320 - val_binary_accuracy: 0.9332\n",
      "Epoch 86/100\n",
      "2576/2576 [==============================] - 0s 7us/step - loss: 0.0777 - binary_accuracy: 0.9744 - val_loss: 0.2268 - val_binary_accuracy: 0.9270\n",
      "Epoch 87/100\n",
      "2576/2576 [==============================] - 0s 8us/step - loss: 0.0775 - binary_accuracy: 0.9732 - val_loss: 0.2273 - val_binary_accuracy: 0.9286\n",
      "Epoch 88/100\n",
      "2576/2576 [==============================] - ETA: 0s - loss: 0.0671 - binary_accuracy: 0.974 - 0s 9us/step - loss: 0.0759 - binary_accuracy: 0.9736 - val_loss: 0.2375 - val_binary_accuracy: 0.9332\n",
      "Epoch 89/100\n",
      "2576/2576 [==============================] - 0s 6us/step - loss: 0.0758 - binary_accuracy: 0.9744 - val_loss: 0.2465 - val_binary_accuracy: 0.9394\n",
      "Epoch 90/100\n",
      "2576/2576 [==============================] - 0s 7us/step - loss: 0.0767 - binary_accuracy: 0.9771 - val_loss: 0.2394 - val_binary_accuracy: 0.9301\n",
      "Epoch 91/100\n",
      "2576/2576 [==============================] - 0s 6us/step - loss: 0.0759 - binary_accuracy: 0.9740 - val_loss: 0.2346 - val_binary_accuracy: 0.9348\n",
      "Epoch 92/100\n",
      "2576/2576 [==============================] - 0s 7us/step - loss: 0.0753 - binary_accuracy: 0.9755 - val_loss: 0.2339 - val_binary_accuracy: 0.9317\n",
      "Epoch 93/100\n",
      "2576/2576 [==============================] - 0s 6us/step - loss: 0.0732 - binary_accuracy: 0.9736 - val_loss: 0.2353 - val_binary_accuracy: 0.9301\n",
      "Epoch 94/100\n",
      "2576/2576 [==============================] - 0s 9us/step - loss: 0.0732 - binary_accuracy: 0.9736 - val_loss: 0.2470 - val_binary_accuracy: 0.9317\n",
      "Epoch 95/100\n",
      "2576/2576 [==============================] - 0s 7us/step - loss: 0.0715 - binary_accuracy: 0.9759 - val_loss: 0.2392 - val_binary_accuracy: 0.9286\n",
      "Epoch 96/100\n",
      "2576/2576 [==============================] - 0s 7us/step - loss: 0.0700 - binary_accuracy: 0.9759 - val_loss: 0.2399 - val_binary_accuracy: 0.9270\n",
      "Epoch 97/100\n",
      "2576/2576 [==============================] - 0s 6us/step - loss: 0.0699 - binary_accuracy: 0.9775 - val_loss: 0.2449 - val_binary_accuracy: 0.9301\n",
      "Epoch 98/100\n",
      "2576/2576 [==============================] - 0s 1us/step - loss: 0.0693 - binary_accuracy: 0.9783 - val_loss: 0.2378 - val_binary_accuracy: 0.9301\n",
      "Epoch 99/100\n",
      "2576/2576 [==============================] - 0s 8us/step - loss: 0.0683 - binary_accuracy: 0.9767 - val_loss: 0.2515 - val_binary_accuracy: 0.9379\n",
      "Epoch 100/100\n",
      "2576/2576 [==============================] - 0s 8us/step - loss: 0.0698 - binary_accuracy: 0.9748 - val_loss: 0.2433 - val_binary_accuracy: 0.9270\n"
     ]
    }
   ],
   "source": [
    "training = model.fit(train_X, train_Y,\n",
    "          epochs=num_epochs,\n",
    "          batch_size=512,\n",
    "          validation_data=(val_X, val_Y))"
   ]
  },
  {
   "cell_type": "code",
   "execution_count": 25,
   "metadata": {},
   "outputs": [
    {
     "name": "stdout",
     "output_type": "stream",
     "text": [
      "Saved task 2 model to disk\n"
     ]
    }
   ],
   "source": [
    "# serialize model to JSON\n",
    "model_json = model.to_json()\n",
    "with open(\"task2model.json\", \"w\") as json_file:\n",
    "    json_file.write(model_json)\n",
    "# serialize weights to HDF5\n",
    "model.save_weights(\"task2weights.h5\")\n",
    "print(\"Saved task 2 model to disk\")"
   ]
  },
  {
   "cell_type": "markdown",
   "metadata": {},
   "source": [
    "#### Plotting the training and Validation loss as function of epochs"
   ]
  },
  {
   "cell_type": "code",
   "execution_count": 19,
   "metadata": {},
   "outputs": [],
   "source": [
    "val_loss = training.history['val_loss']\n",
    "val_accuracy = training.history['val_binary_accuracy']\n",
    "loss = training.history['loss']\n",
    "accuracy = training.history['binary_accuracy']\n",
    "epochs = range(1, len(accuracy)+1)"
   ]
  },
  {
   "cell_type": "code",
   "execution_count": 20,
   "metadata": {},
   "outputs": [
    {
     "data": {
      "image/png": "[encoded data removed]",
      "text/plain": [
       "<Figure size 432x288 with 1 Axes>"
      ]
     },
     "metadata": {
      "needs_background": "light"
     },
     "output_type": "display_data"
    }
   ],
   "source": [
    "plt.plot(epochs, loss, 'bo', label='Training Loss')\n",
    "plt.plot(epochs, val_loss, 'b', label='Validation Loss')\n",
    "plt.title('Training and Validation Loss')\n",
    "plt.xlabel('Epochs')\n",
    "plt.ylabel('Loss')\n",
    "plt.legend()\n",
    "plt.show()"
   ]
  },
  {
   "cell_type": "markdown",
   "metadata": {},
   "source": [
    "#### Plotting the training and Validation accuracy as function of epochs"
   ]
  },
  {
   "cell_type": "code",
   "execution_count": 21,
   "metadata": {},
   "outputs": [
    {
     "data": {
      "image/png": "[encoded data removed]",
      "text/plain": [
       "<Figure size 432x288 with 1 Axes>"
      ]
     },
     "metadata": {
      "needs_background": "light"
     },
     "output_type": "display_data"
    }
   ],
   "source": [
    "plt.plot(epochs, accuracy, 'bo', label='Training Accuracy')\n",
    "plt.plot(epochs, val_accuracy, 'b', label='Validation Accuracy')\n",
    "plt.title('Training and Validation Accuracy')\n",
    "plt.xlabel('Epochs')\n",
    "plt.ylabel('Accuracy')\n",
    "plt.legend()\n",
    "plt.show()"
   ]
  },
  {
   "cell_type": "code",
   "execution_count": 27,
   "metadata": {},
   "outputs": [
    {
     "name": "stdout",
     "output_type": "stream",
     "text": [
      "1381/1381 [==============================] - 0s 46us/step\n",
      "[0.1693823969856196, 0.9435191750526428]\n"
     ]
    }
   ],
   "source": [
    "results = model.evaluate(test_X, test_Y)\n",
    "print(results)"
   ]
  },
  {
   "cell_type": "markdown",
   "metadata": {},
   "source": [
    "#### Comparing the performance with a random classifier"
   ]
  },
  {
   "cell_type": "code",
   "execution_count": 28,
   "metadata": {},
   "outputs": [
    {
     "name": "stdout",
     "output_type": "stream",
     "text": [
      "0.5220854453294714\n"
     ]
    }
   ],
   "source": [
    "testlabels_copy = np.copy(test_Y)\n",
    "np.random.shuffle(testlabels_copy)\n",
    "hits_array = np.array(test_Y) == np.array(testlabels_copy)\n",
    "print(np.sum(hits_array)/len(test_Y))"
   ]
  },
  {
   "cell_type": "markdown",
   "metadata": {},
   "source": [
    "#### Testing the performance on a randomly chosen data point in test set"
   ]
  },
  {
   "cell_type": "code",
   "execution_count": 29,
   "metadata": {},
   "outputs": [
    {
     "name": "stdout",
     "output_type": "stream",
     "text": [
      "True label: [0]\n"
     ]
    },
    {
     "data": {
      "text/plain": [
       "0"
      ]
     },
     "execution_count": 29,
     "metadata": {},
     "output_type": "execute_result"
    }
   ],
   "source": [
    "print(\"True label: \"+str(test_Y[6]))\n",
    "prediction = model.predict(np.array([test_X[6]]))\n",
    "np.argmax(prediction)"
   ]
  },
  {
   "cell_type": "code",
   "execution_count": null,
   "metadata": {},
   "outputs": [],
   "source": []
  }
 ],
 "metadata": {
  "kernelspec": {
   "display_name": "Python 3",
   "language": "python",
   "name": "python3"
  },
  "language_info": {
   "codemirror_mode": {
    "name": "ipython",
    "version": 3
   },
   "file_extension": ".py",
   "mimetype": "text/x-python",
   "name": "python",
   "nbconvert_exporter": "python",
   "pygments_lexer": "ipython3",
   "version": "3.7.3"
  }
 },
 "nbformat": 4,
 "nbformat_minor": 2
}
