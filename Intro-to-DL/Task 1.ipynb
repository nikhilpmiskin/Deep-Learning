{
 "cells": [
  {
   "cell_type": "code",
   "execution_count": 1,
   "metadata": {},
   "outputs": [
    {
     "name": "stderr",
     "output_type": "stream",
     "text": [
      "Using TensorFlow backend.\n"
     ]
    }
   ],
   "source": [
    "import numpy as np\n",
    "from keras.utils import to_categorical\n",
    "from keras.datasets import cifar10\n",
    "from keras.models import Sequential\n",
    "from keras.layers import Dense, Dropout\n",
    "from keras.models import model_from_json\n",
    "\n",
    "from keras import optimizers, losses, metrics\n",
    "\n",
    "import matplotlib.pyplot as plt"
   ]
  },
  {
   "cell_type": "code",
   "execution_count": 2,
   "metadata": {},
   "outputs": [],
   "source": [
    "(train_X, train_Y), (test_X, test_Y) = cifar10.load_data()"
   ]
  },
  {
   "cell_type": "code",
   "execution_count": 3,
   "metadata": {},
   "outputs": [
    {
     "data": {
      "text/plain": [
       "(array([0, 1, 2, 3, 4, 5, 6, 7, 8, 9], dtype=uint8),\n",
       " array([5000, 5000, 5000, 5000, 5000, 5000, 5000, 5000, 5000, 5000],\n",
       "       dtype=int64))"
      ]
     },
     "execution_count": 3,
     "metadata": {},
     "output_type": "execute_result"
    }
   ],
   "source": [
    "#Checking distribution of targets in training data\n",
    "np.unique(train_Y, return_counts=True)"
   ]
  },
  {
   "cell_type": "markdown",
   "metadata": {},
   "source": [
    "#### Selecting subset of 3 classes"
   ]
  },
  {
   "cell_type": "code",
   "execution_count": 4,
   "metadata": {},
   "outputs": [],
   "source": [
    "def filterData(x, y, classes):\n",
    "    x_filt = []\n",
    "    y_filt = []\n",
    "    for i in range(0, len(y)):\n",
    "        if y[i] in classes:\n",
    "            y_filt.append(y[i])\n",
    "            x_filt.append(x[i])\n",
    "    return np.array(x_filt), np.array(y_filt)"
   ]
  },
  {
   "cell_type": "code",
   "execution_count": 5,
   "metadata": {},
   "outputs": [],
   "source": [
    "classes = [0, 1, 2]\n",
    "train_X, train_Y = filterData(train_X, train_Y, classes)\n",
    "test_X, test_Y = filterData(test_X, test_Y, classes)\n",
    "testImages = test_X"
   ]
  },
  {
   "cell_type": "markdown",
   "metadata": {},
   "source": [
    "#### Normalize the features"
   ]
  },
  {
   "cell_type": "code",
   "execution_count": 6,
   "metadata": {},
   "outputs": [],
   "source": [
    "train_X = train_X.astype('float32')\n",
    "test_X = test_X.astype('float32')\n",
    "train_X = train_X / 255\n",
    "test_X = test_X / 255"
   ]
  },
  {
   "cell_type": "markdown",
   "metadata": {},
   "source": [
    "#### Splitting training set into training and validation sets"
   ]
  },
  {
   "cell_type": "code",
   "execution_count": 7,
   "metadata": {},
   "outputs": [],
   "source": [
    "val_X = train_X[:4500]\n",
    "train_X = train_X[4500:]\n",
    "val_Y = train_Y[:4500]\n",
    "train_Y = train_Y[4500:]"
   ]
  },
  {
   "cell_type": "code",
   "execution_count": 8,
   "metadata": {},
   "outputs": [
    {
     "data": {
      "text/plain": [
       "(10500, 32, 32, 3)"
      ]
     },
     "execution_count": 8,
     "metadata": {},
     "output_type": "execute_result"
    }
   ],
   "source": [
    "train_X.shape"
   ]
  },
  {
   "cell_type": "code",
   "execution_count": 9,
   "metadata": {},
   "outputs": [
    {
     "data": {
      "text/plain": [
       "(10500, 1)"
      ]
     },
     "execution_count": 9,
     "metadata": {},
     "output_type": "execute_result"
    }
   ],
   "source": [
    "train_Y.shape"
   ]
  },
  {
   "cell_type": "code",
   "execution_count": 10,
   "metadata": {},
   "outputs": [
    {
     "data": {
      "text/plain": [
       "(4500, 32, 32, 3)"
      ]
     },
     "execution_count": 10,
     "metadata": {},
     "output_type": "execute_result"
    }
   ],
   "source": [
    "val_X.shape"
   ]
  },
  {
   "cell_type": "code",
   "execution_count": 11,
   "metadata": {},
   "outputs": [
    {
     "data": {
      "text/plain": [
       "(4500, 1)"
      ]
     },
     "execution_count": 11,
     "metadata": {},
     "output_type": "execute_result"
    }
   ],
   "source": [
    "val_Y.shape"
   ]
  },
  {
   "cell_type": "markdown",
   "metadata": {},
   "source": [
    "#### Vectorizing images"
   ]
  },
  {
   "cell_type": "code",
   "execution_count": 12,
   "metadata": {},
   "outputs": [],
   "source": [
    "def vectorizeImages(imageData):\n",
    "    return imageData.reshape(imageData.shape[0], np.prod(imageData.shape[1:]))"
   ]
  },
  {
   "cell_type": "code",
   "execution_count": 13,
   "metadata": {},
   "outputs": [
    {
     "data": {
      "text/plain": [
       "(10500, 3072)"
      ]
     },
     "execution_count": 13,
     "metadata": {},
     "output_type": "execute_result"
    }
   ],
   "source": [
    "train_X = vectorizeImages(train_X)\n",
    "train_X.shape"
   ]
  },
  {
   "cell_type": "code",
   "execution_count": 14,
   "metadata": {},
   "outputs": [
    {
     "data": {
      "text/plain": [
       "(4500, 3072)"
      ]
     },
     "execution_count": 14,
     "metadata": {},
     "output_type": "execute_result"
    }
   ],
   "source": [
    "val_X = vectorizeImages(val_X)\n",
    "val_X.shape"
   ]
  },
  {
   "cell_type": "code",
   "execution_count": 15,
   "metadata": {},
   "outputs": [
    {
     "data": {
      "text/plain": [
       "(3000, 3072)"
      ]
     },
     "execution_count": 15,
     "metadata": {},
     "output_type": "execute_result"
    }
   ],
   "source": [
    "test_X = vectorizeImages(test_X)\n",
    "test_X.shape"
   ]
  },
  {
   "cell_type": "markdown",
   "metadata": {},
   "source": [
    "#### Encoding target values"
   ]
  },
  {
   "cell_type": "code",
   "execution_count": 16,
   "metadata": {},
   "outputs": [
    {
     "data": {
      "text/plain": [
       "(10500, 3)"
      ]
     },
     "execution_count": 16,
     "metadata": {},
     "output_type": "execute_result"
    }
   ],
   "source": [
    "train_Y = to_categorical(train_Y)\n",
    "train_Y.shape"
   ]
  },
  {
   "cell_type": "code",
   "execution_count": 17,
   "metadata": {},
   "outputs": [
    {
     "data": {
      "text/plain": [
       "(4500, 3)"
      ]
     },
     "execution_count": 17,
     "metadata": {},
     "output_type": "execute_result"
    }
   ],
   "source": [
    "val_Y = to_categorical(val_Y)\n",
    "val_Y.shape"
   ]
  },
  {
   "cell_type": "code",
   "execution_count": 18,
   "metadata": {},
   "outputs": [
    {
     "data": {
      "text/plain": [
       "(3000, 3)"
      ]
     },
     "execution_count": 18,
     "metadata": {},
     "output_type": "execute_result"
    }
   ],
   "source": [
    "testlabels = test_Y\n",
    "test_Y = to_categorical(test_Y)\n",
    "test_Y.shape"
   ]
  },
  {
   "cell_type": "markdown",
   "metadata": {},
   "source": [
    "#### Run this to load model from json file"
   ]
  },
  {
   "cell_type": "code",
   "execution_count": 19,
   "metadata": {},
   "outputs": [
    {
     "name": "stdout",
     "output_type": "stream",
     "text": [
      "Loaded model from disk\n"
     ]
    }
   ],
   "source": [
    "json_file = open('task1model.json', 'r')\n",
    "model_json = json_file.read()\n",
    "json_file.close()\n",
    "model = model_from_json(model_json)\n",
    "\n",
    "model.load_weights(\"task1weights.h5\")\n",
    "print(\"Loaded model from disk\")\n",
    "\n",
    "model.compile(loss=losses.categorical_crossentropy,\n",
    "              optimizer=optimizers.RMSprop(lr=0.001),\n",
    "              metrics=['accuracy'])"
   ]
  },
  {
   "cell_type": "markdown",
   "metadata": {},
   "source": [
    "#### Build Neural Network"
   ]
  },
  {
   "cell_type": "code",
   "execution_count": 34,
   "metadata": {},
   "outputs": [],
   "source": [
    "inputDim = train_X.shape[1]\n",
    "outputDim = train_Y.shape[1]\n",
    "num_epochs = 150\n",
    "\n",
    "nlayers = 2\n",
    "nnodes = [64]\n",
    "\n",
    "model = Sequential()\n",
    "model.add(Dense(nnodes[0], input_dim=inputDim, activation='relu'))\n",
    "\n",
    "for i in range(1, nlayers):  #Adding hidden layers\n",
    "    model.add(Dense(nnodes[i-1], activation='relu'))\n",
    "    \n",
    "model.add(Dense(outputDim, activation='softmax')) # Adding output layer"
   ]
  },
  {
   "cell_type": "code",
   "execution_count": 35,
   "metadata": {},
   "outputs": [],
   "source": [
    "model.compile(loss=losses.categorical_crossentropy,\n",
    "              optimizer=optimizers.RMSprop(lr=0.001),\n",
    "              metrics=['accuracy'])"
   ]
  },
  {
   "cell_type": "code",
   "execution_count": 36,
   "metadata": {},
   "outputs": [
    {
     "name": "stdout",
     "output_type": "stream",
     "text": [
      "Train on 10500 samples, validate on 4500 samples\n",
      "Epoch 1/150\n",
      "10500/10500 [==============================] - 1s 61us/step - loss: 1.6094 - accuracy: 0.3886 - val_loss: 1.0608 - val_accuracy: 0.3727\n",
      "Epoch 2/150\n",
      "10500/10500 [==============================] - 0s 40us/step - loss: 1.1272 - accuracy: 0.4454 - val_loss: 0.9356 - val_accuracy: 0.6442\n",
      "Epoch 3/150\n",
      "10500/10500 [==============================] - 0s 46us/step - loss: 1.0459 - accuracy: 0.5122 - val_loss: 0.9827 - val_accuracy: 0.4942\n",
      "Epoch 4/150\n",
      "10500/10500 [==============================] - 0s 44us/step - loss: 0.9771 - accuracy: 0.5470 - val_loss: 0.8363 - val_accuracy: 0.6602\n",
      "Epoch 5/150\n",
      "10500/10500 [==============================] - 0s 47us/step - loss: 0.9459 - accuracy: 0.5869 - val_loss: 0.9616 - val_accuracy: 0.5509\n",
      "Epoch 6/150\n",
      "10500/10500 [==============================] - 0s 46us/step - loss: 0.9111 - accuracy: 0.6012 - val_loss: 1.0135 - val_accuracy: 0.5047\n",
      "Epoch 7/150\n",
      "10500/10500 [==============================] - 0s 44us/step - loss: 0.8818 - accuracy: 0.6114 - val_loss: 0.8325 - val_accuracy: 0.6398\n",
      "Epoch 8/150\n",
      "10500/10500 [==============================] - 0s 45us/step - loss: 0.8897 - accuracy: 0.6057 - val_loss: 1.0478 - val_accuracy: 0.5016\n",
      "Epoch 9/150\n",
      "10500/10500 [==============================] - 0s 46us/step - loss: 0.8544 - accuracy: 0.6270 - val_loss: 0.8755 - val_accuracy: 0.6064\n",
      "Epoch 10/150\n",
      "10500/10500 [==============================] - 0s 42us/step - loss: 0.8573 - accuracy: 0.6208 - val_loss: 0.7928 - val_accuracy: 0.6624\n",
      "Epoch 11/150\n",
      "10500/10500 [==============================] - 1s 48us/step - loss: 0.8180 - accuracy: 0.6437 - val_loss: 0.7958 - val_accuracy: 0.6573\n",
      "Epoch 12/150\n",
      "10500/10500 [==============================] - 0s 44us/step - loss: 0.8200 - accuracy: 0.6479 - val_loss: 0.8374 - val_accuracy: 0.6353\n",
      "Epoch 13/150\n",
      "10500/10500 [==============================] - 0s 45us/step - loss: 0.8075 - accuracy: 0.6548 - val_loss: 0.7542 - val_accuracy: 0.6869\n",
      "Epoch 14/150\n",
      "10500/10500 [==============================] - 0s 45us/step - loss: 0.7941 - accuracy: 0.6602 - val_loss: 0.8408 - val_accuracy: 0.6238\n",
      "Epoch 15/150\n",
      "10500/10500 [==============================] - 0s 45us/step - loss: 0.7844 - accuracy: 0.6610 - val_loss: 0.7882 - val_accuracy: 0.6651\n",
      "Epoch 16/150\n",
      "10500/10500 [==============================] - 0s 45us/step - loss: 0.7546 - accuracy: 0.6770 - val_loss: 0.7538 - val_accuracy: 0.6749\n",
      "Epoch 17/150\n",
      "10500/10500 [==============================] - 0s 47us/step - loss: 0.7668 - accuracy: 0.6713 - val_loss: 0.7580 - val_accuracy: 0.6731\n",
      "Epoch 18/150\n",
      "10500/10500 [==============================] - 0s 46us/step - loss: 0.7545 - accuracy: 0.6821 - val_loss: 0.7160 - val_accuracy: 0.6969\n",
      "Epoch 19/150\n",
      "10500/10500 [==============================] - 0s 45us/step - loss: 0.7285 - accuracy: 0.6974 - val_loss: 0.8557 - val_accuracy: 0.6236\n",
      "Epoch 20/150\n",
      "10500/10500 [==============================] - 0s 44us/step - loss: 0.7339 - accuracy: 0.6910 - val_loss: 0.6933 - val_accuracy: 0.7107\n",
      "Epoch 21/150\n",
      "10500/10500 [==============================] - 0s 45us/step - loss: 0.7132 - accuracy: 0.7007 - val_loss: 0.6642 - val_accuracy: 0.7244\n",
      "Epoch 22/150\n",
      "10500/10500 [==============================] - 0s 46us/step - loss: 0.7143 - accuracy: 0.6980 - val_loss: 0.6558 - val_accuracy: 0.7313\n",
      "Epoch 23/150\n",
      "10500/10500 [==============================] - 0s 46us/step - loss: 0.7114 - accuracy: 0.7010 - val_loss: 0.6846 - val_accuracy: 0.7202\n",
      "Epoch 24/150\n",
      "10500/10500 [==============================] - 0s 45us/step - loss: 0.6926 - accuracy: 0.7107 - val_loss: 0.6894 - val_accuracy: 0.7100\n",
      "Epoch 25/150\n",
      "10500/10500 [==============================] - 0s 46us/step - loss: 0.6962 - accuracy: 0.7059 - val_loss: 0.6458 - val_accuracy: 0.7324\n",
      "Epoch 26/150\n",
      "10500/10500 [==============================] - 0s 46us/step - loss: 0.6819 - accuracy: 0.7150 - val_loss: 0.7324 - val_accuracy: 0.6880\n",
      "Epoch 27/150\n",
      "10500/10500 [==============================] - 0s 44us/step - loss: 0.6895 - accuracy: 0.7109 - val_loss: 0.6294 - val_accuracy: 0.7427\n",
      "Epoch 28/150\n",
      "10500/10500 [==============================] - 0s 43us/step - loss: 0.6659 - accuracy: 0.7230 - val_loss: 0.7735 - val_accuracy: 0.6587\n",
      "Epoch 29/150\n",
      "10500/10500 [==============================] - 0s 44us/step - loss: 0.6745 - accuracy: 0.7194 - val_loss: 0.6806 - val_accuracy: 0.7162\n",
      "Epoch 30/150\n",
      "10500/10500 [==============================] - 0s 45us/step - loss: 0.6537 - accuracy: 0.7283 - val_loss: 0.6446 - val_accuracy: 0.7378\n",
      "Epoch 31/150\n",
      "10500/10500 [==============================] - 0s 45us/step - loss: 0.6625 - accuracy: 0.7235 - val_loss: 0.7728 - val_accuracy: 0.6613\n",
      "Epoch 32/150\n",
      "10500/10500 [==============================] - 0s 45us/step - loss: 0.6549 - accuracy: 0.7267 - val_loss: 0.6372 - val_accuracy: 0.7409\n",
      "Epoch 33/150\n",
      "10500/10500 [==============================] - 0s 45us/step - loss: 0.6490 - accuracy: 0.7335 - val_loss: 0.6161 - val_accuracy: 0.7511\n",
      "Epoch 34/150\n",
      "10500/10500 [==============================] - 0s 43us/step - loss: 0.6469 - accuracy: 0.7303 - val_loss: 0.7552 - val_accuracy: 0.6751\n",
      "Epoch 35/150\n",
      "10500/10500 [==============================] - 0s 44us/step - loss: 0.6395 - accuracy: 0.7386 - val_loss: 0.6114 - val_accuracy: 0.7513\n",
      "Epoch 36/150\n",
      "10500/10500 [==============================] - 0s 44us/step - loss: 0.6297 - accuracy: 0.7419 - val_loss: 0.6029 - val_accuracy: 0.7533\n",
      "Epoch 37/150\n",
      "10500/10500 [==============================] - 0s 44us/step - loss: 0.6208 - accuracy: 0.7472 - val_loss: 0.6696 - val_accuracy: 0.7113\n",
      "Epoch 38/150\n",
      "10500/10500 [==============================] - 0s 43us/step - loss: 0.6194 - accuracy: 0.7475 - val_loss: 0.6810 - val_accuracy: 0.7196\n",
      "Epoch 39/150\n",
      "10500/10500 [==============================] - 0s 46us/step - loss: 0.6164 - accuracy: 0.7455 - val_loss: 0.6409 - val_accuracy: 0.7333\n",
      "Epoch 40/150\n",
      "10500/10500 [==============================] - 0s 45us/step - loss: 0.6106 - accuracy: 0.7492 - val_loss: 0.6275 - val_accuracy: 0.7551\n",
      "Epoch 41/150\n",
      "10500/10500 [==============================] - 0s 45us/step - loss: 0.6052 - accuracy: 0.7527 - val_loss: 0.6100 - val_accuracy: 0.7513\n",
      "Epoch 42/150\n",
      "10500/10500 [==============================] - 0s 43us/step - loss: 0.6020 - accuracy: 0.7536 - val_loss: 0.6121 - val_accuracy: 0.7509\n",
      "Epoch 43/150\n",
      "10500/10500 [==============================] - 0s 42us/step - loss: 0.6170 - accuracy: 0.7481 - val_loss: 0.6384 - val_accuracy: 0.7369\n",
      "Epoch 44/150\n",
      "10500/10500 [==============================] - 0s 43us/step - loss: 0.5820 - accuracy: 0.7633 - val_loss: 0.7600 - val_accuracy: 0.6976\n",
      "Epoch 45/150\n",
      "10500/10500 [==============================] - 0s 45us/step - loss: 0.5981 - accuracy: 0.7576 - val_loss: 0.6711 - val_accuracy: 0.7193\n",
      "Epoch 46/150\n",
      "10500/10500 [==============================] - 0s 43us/step - loss: 0.5913 - accuracy: 0.7583 - val_loss: 0.6825 - val_accuracy: 0.7173\n",
      "Epoch 47/150\n",
      "10500/10500 [==============================] - 0s 44us/step - loss: 0.5833 - accuracy: 0.7608 - val_loss: 0.5988 - val_accuracy: 0.7629\n",
      "Epoch 48/150\n",
      "10500/10500 [==============================] - 0s 43us/step - loss: 0.5777 - accuracy: 0.7644 - val_loss: 0.6749 - val_accuracy: 0.7220\n",
      "Epoch 49/150\n",
      "10500/10500 [==============================] - 0s 43us/step - loss: 0.5746 - accuracy: 0.7663 - val_loss: 0.6008 - val_accuracy: 0.7602\n",
      "Epoch 50/150\n",
      "10500/10500 [==============================] - 0s 42us/step - loss: 0.5772 - accuracy: 0.7614 - val_loss: 0.6418 - val_accuracy: 0.7342\n",
      "Epoch 51/150\n",
      "10500/10500 [==============================] - 0s 39us/step - loss: 0.5573 - accuracy: 0.7765 - val_loss: 0.6590 - val_accuracy: 0.7329\n",
      "Epoch 52/150\n",
      "10500/10500 [==============================] - 0s 41us/step - loss: 0.5723 - accuracy: 0.7725 - val_loss: 0.6419 - val_accuracy: 0.7409\n",
      "Epoch 53/150\n",
      "10500/10500 [==============================] - 0s 34us/step - loss: 0.5633 - accuracy: 0.7717 - val_loss: 0.5747 - val_accuracy: 0.7693\n",
      "Epoch 54/150\n",
      "10500/10500 [==============================] - 0s 40us/step - loss: 0.5651 - accuracy: 0.7680 - val_loss: 0.6839 - val_accuracy: 0.7253\n",
      "Epoch 55/150\n",
      "10500/10500 [==============================] - 0s 41us/step - loss: 0.5570 - accuracy: 0.7731 - val_loss: 0.6393 - val_accuracy: 0.7244\n"
     ]
    },
    {
     "name": "stdout",
     "output_type": "stream",
     "text": [
      "Epoch 56/150\n",
      "10500/10500 [==============================] - 0s 42us/step - loss: 0.5757 - accuracy: 0.7650 - val_loss: 0.5878 - val_accuracy: 0.7593\n",
      "Epoch 57/150\n",
      "10500/10500 [==============================] - 0s 39us/step - loss: 0.5372 - accuracy: 0.7804 - val_loss: 0.6707 - val_accuracy: 0.7249\n",
      "Epoch 58/150\n",
      "10500/10500 [==============================] - 0s 39us/step - loss: 0.5511 - accuracy: 0.7733 - val_loss: 0.6015 - val_accuracy: 0.7580\n",
      "Epoch 59/150\n",
      "10500/10500 [==============================] - 0s 46us/step - loss: 0.5425 - accuracy: 0.7810 - val_loss: 0.6470 - val_accuracy: 0.7298\n",
      "Epoch 60/150\n",
      "10500/10500 [==============================] - 0s 43us/step - loss: 0.5208 - accuracy: 0.7891 - val_loss: 0.6454 - val_accuracy: 0.7416\n",
      "Epoch 61/150\n",
      "10500/10500 [==============================] - 0s 43us/step - loss: 0.5562 - accuracy: 0.7754 - val_loss: 0.6130 - val_accuracy: 0.7533\n",
      "Epoch 62/150\n",
      "10500/10500 [==============================] - 0s 45us/step - loss: 0.5376 - accuracy: 0.7830 - val_loss: 0.5986 - val_accuracy: 0.7593\n",
      "Epoch 63/150\n",
      "10500/10500 [==============================] - 0s 45us/step - loss: 0.5366 - accuracy: 0.7812 - val_loss: 0.6056 - val_accuracy: 0.7473\n",
      "Epoch 64/150\n",
      "10500/10500 [==============================] - 0s 46us/step - loss: 0.5205 - accuracy: 0.7867 - val_loss: 0.5767 - val_accuracy: 0.7676\n",
      "Epoch 65/150\n",
      "10500/10500 [==============================] - 0s 45us/step - loss: 0.5394 - accuracy: 0.7821 - val_loss: 0.5890 - val_accuracy: 0.7667\n",
      "Epoch 66/150\n",
      "10500/10500 [==============================] - 0s 44us/step - loss: 0.5467 - accuracy: 0.7807 - val_loss: 0.5798 - val_accuracy: 0.7667\n",
      "Epoch 67/150\n",
      "10500/10500 [==============================] - 0s 44us/step - loss: 0.5148 - accuracy: 0.7929 - val_loss: 0.6332 - val_accuracy: 0.7371\n",
      "Epoch 68/150\n",
      "10500/10500 [==============================] - 0s 43us/step - loss: 0.5335 - accuracy: 0.7830 - val_loss: 0.5801 - val_accuracy: 0.7638\n",
      "Epoch 69/150\n",
      "10500/10500 [==============================] - 0s 41us/step - loss: 0.5205 - accuracy: 0.7883 - val_loss: 0.5944 - val_accuracy: 0.7576\n",
      "Epoch 70/150\n",
      "10500/10500 [==============================] - 0s 44us/step - loss: 0.5192 - accuracy: 0.7892 - val_loss: 0.5729 - val_accuracy: 0.7729\n",
      "Epoch 71/150\n",
      "10500/10500 [==============================] - 0s 45us/step - loss: 0.5238 - accuracy: 0.7847 - val_loss: 0.6111 - val_accuracy: 0.7553\n",
      "Epoch 72/150\n",
      "10500/10500 [==============================] - 0s 43us/step - loss: 0.5025 - accuracy: 0.7945 - val_loss: 0.6305 - val_accuracy: 0.7527\n",
      "Epoch 73/150\n",
      "10500/10500 [==============================] - 0s 45us/step - loss: 0.5383 - accuracy: 0.7754 - val_loss: 0.5736 - val_accuracy: 0.7713\n",
      "Epoch 74/150\n",
      "10500/10500 [==============================] - 0s 43us/step - loss: 0.4946 - accuracy: 0.8023 - val_loss: 0.5858 - val_accuracy: 0.7658\n",
      "Epoch 75/150\n",
      "10500/10500 [==============================] - 0s 42us/step - loss: 0.5173 - accuracy: 0.7901 - val_loss: 0.5647 - val_accuracy: 0.7713\n",
      "Epoch 76/150\n",
      "10500/10500 [==============================] - 0s 44us/step - loss: 0.5045 - accuracy: 0.7938 - val_loss: 0.6511 - val_accuracy: 0.7416\n",
      "Epoch 77/150\n",
      "10500/10500 [==============================] - 0s 45us/step - loss: 0.5081 - accuracy: 0.7953 - val_loss: 0.5802 - val_accuracy: 0.7707\n",
      "Epoch 78/150\n",
      "10500/10500 [==============================] - 0s 43us/step - loss: 0.5050 - accuracy: 0.7934 - val_loss: 0.7412 - val_accuracy: 0.7153\n",
      "Epoch 79/150\n",
      "10500/10500 [==============================] - 0s 38us/step - loss: 0.4953 - accuracy: 0.8012 - val_loss: 0.5568 - val_accuracy: 0.7816\n",
      "Epoch 80/150\n",
      "10500/10500 [==============================] - 0s 31us/step - loss: 0.5049 - accuracy: 0.7972 - val_loss: 0.6071 - val_accuracy: 0.7540\n",
      "Epoch 81/150\n",
      "10500/10500 [==============================] - 0s 35us/step - loss: 0.5006 - accuracy: 0.7973 - val_loss: 0.6248 - val_accuracy: 0.7491\n",
      "Epoch 82/150\n",
      "10500/10500 [==============================] - 0s 32us/step - loss: 0.4794 - accuracy: 0.8049 - val_loss: 0.5550 - val_accuracy: 0.7804\n",
      "Epoch 83/150\n",
      "10500/10500 [==============================] - 0s 30us/step - loss: 0.4855 - accuracy: 0.8037 - val_loss: 0.6643 - val_accuracy: 0.7336\n",
      "Epoch 84/150\n",
      "10500/10500 [==============================] - 0s 35us/step - loss: 0.4948 - accuracy: 0.7986 - val_loss: 0.5797 - val_accuracy: 0.7647\n",
      "Epoch 85/150\n",
      "10500/10500 [==============================] - 0s 31us/step - loss: 0.4745 - accuracy: 0.8081 - val_loss: 0.6497 - val_accuracy: 0.7469\n",
      "Epoch 86/150\n",
      "10500/10500 [==============================] - 0s 38us/step - loss: 0.4817 - accuracy: 0.8038 - val_loss: 0.6322 - val_accuracy: 0.7522\n",
      "Epoch 87/150\n",
      "10500/10500 [==============================] - 0s 27us/step - loss: 0.4753 - accuracy: 0.8099 - val_loss: 0.5901 - val_accuracy: 0.7669\n",
      "Epoch 88/150\n",
      "10500/10500 [==============================] - 0s 33us/step - loss: 0.5075 - accuracy: 0.7958 - val_loss: 0.6328 - val_accuracy: 0.7364\n",
      "Epoch 89/150\n",
      "10500/10500 [==============================] - 0s 31us/step - loss: 0.4793 - accuracy: 0.8076 - val_loss: 0.6631 - val_accuracy: 0.7311\n",
      "Epoch 90/150\n",
      "10500/10500 [==============================] - 0s 33us/step - loss: 0.4769 - accuracy: 0.8118 - val_loss: 0.5802 - val_accuracy: 0.7736\n",
      "Epoch 91/150\n",
      "10500/10500 [==============================] - 0s 32us/step - loss: 0.4693 - accuracy: 0.8111 - val_loss: 0.5772 - val_accuracy: 0.7696\n",
      "Epoch 92/150\n",
      "10500/10500 [==============================] - 0s 28us/step - loss: 0.4795 - accuracy: 0.8070 - val_loss: 0.6154 - val_accuracy: 0.7476\n",
      "Epoch 93/150\n",
      "10500/10500 [==============================] - 0s 34us/step - loss: 0.4708 - accuracy: 0.8070 - val_loss: 0.6214 - val_accuracy: 0.7529\n",
      "Epoch 94/150\n",
      "10500/10500 [==============================] - 0s 29us/step - loss: 0.4802 - accuracy: 0.8089 - val_loss: 0.5596 - val_accuracy: 0.7782\n",
      "Epoch 95/150\n",
      "10500/10500 [==============================] - 0s 30us/step - loss: 0.4768 - accuracy: 0.8083 - val_loss: 0.6388 - val_accuracy: 0.7404\n",
      "Epoch 96/150\n",
      "10500/10500 [==============================] - 0s 34us/step - loss: 0.4593 - accuracy: 0.8118 - val_loss: 0.6093 - val_accuracy: 0.7558\n",
      "Epoch 97/150\n",
      "10500/10500 [==============================] - 0s 27us/step - loss: 0.4760 - accuracy: 0.8073 - val_loss: 0.6319 - val_accuracy: 0.7431\n",
      "Epoch 98/150\n",
      "10500/10500 [==============================] - 0s 31us/step - loss: 0.4626 - accuracy: 0.8124 - val_loss: 0.5775 - val_accuracy: 0.7698\n",
      "Epoch 99/150\n",
      "10500/10500 [==============================] - 0s 29us/step - loss: 0.4658 - accuracy: 0.8140 - val_loss: 0.5669 - val_accuracy: 0.7753\n",
      "Epoch 100/150\n",
      "10500/10500 [==============================] - 0s 32us/step - loss: 0.4728 - accuracy: 0.8074 - val_loss: 0.6180 - val_accuracy: 0.7616\n",
      "Epoch 101/150\n",
      "10500/10500 [==============================] - 0s 29us/step - loss: 0.4666 - accuracy: 0.8100 - val_loss: 0.6420 - val_accuracy: 0.7460\n",
      "Epoch 102/150\n",
      "10500/10500 [==============================] - 0s 33us/step - loss: 0.4606 - accuracy: 0.8138 - val_loss: 0.5855 - val_accuracy: 0.7684\n",
      "Epoch 103/150\n",
      "10500/10500 [==============================] - 0s 31us/step - loss: 0.4525 - accuracy: 0.8197 - val_loss: 0.5983 - val_accuracy: 0.7702\n",
      "Epoch 104/150\n",
      "10500/10500 [==============================] - 0s 30us/step - loss: 0.4508 - accuracy: 0.8170 - val_loss: 0.5719 - val_accuracy: 0.7722\n",
      "Epoch 105/150\n",
      "10500/10500 [==============================] - 0s 29us/step - loss: 0.4512 - accuracy: 0.8178 - val_loss: 0.7274 - val_accuracy: 0.7304\n",
      "Epoch 106/150\n",
      "10500/10500 [==============================] - 0s 37us/step - loss: 0.4567 - accuracy: 0.8133 - val_loss: 0.7606 - val_accuracy: 0.7107\n",
      "Epoch 107/150\n",
      "10500/10500 [==============================] - 0s 34us/step - loss: 0.4417 - accuracy: 0.8247 - val_loss: 0.6018 - val_accuracy: 0.7602\n",
      "Epoch 108/150\n",
      "10500/10500 [==============================] - 0s 33us/step - loss: 0.4619 - accuracy: 0.8142 - val_loss: 0.6039 - val_accuracy: 0.7593\n",
      "Epoch 109/150\n",
      "10500/10500 [==============================] - 0s 34us/step - loss: 0.4406 - accuracy: 0.8216 - val_loss: 0.8265 - val_accuracy: 0.6987\n",
      "Epoch 110/150\n",
      "10500/10500 [==============================] - 0s 32us/step - loss: 0.4533 - accuracy: 0.8241 - val_loss: 0.6332 - val_accuracy: 0.7607\n"
     ]
    },
    {
     "name": "stdout",
     "output_type": "stream",
     "text": [
      "Epoch 111/150\n",
      "10500/10500 [==============================] - 0s 40us/step - loss: 0.4361 - accuracy: 0.8230 - val_loss: 0.6330 - val_accuracy: 0.7571\n",
      "Epoch 112/150\n",
      "10500/10500 [==============================] - 0s 41us/step - loss: 0.4529 - accuracy: 0.8164 - val_loss: 0.5730 - val_accuracy: 0.7736\n",
      "Epoch 113/150\n",
      "10500/10500 [==============================] - 0s 33us/step - loss: 0.4338 - accuracy: 0.8231 - val_loss: 0.5872 - val_accuracy: 0.7702\n",
      "Epoch 114/150\n",
      "10500/10500 [==============================] - 0s 37us/step - loss: 0.4439 - accuracy: 0.8182 - val_loss: 0.6249 - val_accuracy: 0.7607\n",
      "Epoch 115/150\n",
      "10500/10500 [==============================] - 0s 45us/step - loss: 0.4252 - accuracy: 0.8278 - val_loss: 0.6494 - val_accuracy: 0.7438\n",
      "Epoch 116/150\n",
      "10500/10500 [==============================] - 0s 46us/step - loss: 0.4491 - accuracy: 0.8226 - val_loss: 0.6895 - val_accuracy: 0.7231\n",
      "Epoch 117/150\n",
      "10500/10500 [==============================] - 0s 44us/step - loss: 0.4461 - accuracy: 0.8188 - val_loss: 0.6812 - val_accuracy: 0.7382\n",
      "Epoch 118/150\n",
      "10500/10500 [==============================] - 0s 46us/step - loss: 0.4180 - accuracy: 0.8308 - val_loss: 0.6201 - val_accuracy: 0.7613\n",
      "Epoch 119/150\n",
      "10500/10500 [==============================] - 0s 46us/step - loss: 0.4437 - accuracy: 0.8197 - val_loss: 0.5704 - val_accuracy: 0.7800\n",
      "Epoch 120/150\n",
      "10500/10500 [==============================] - 0s 46us/step - loss: 0.4332 - accuracy: 0.8274 - val_loss: 0.5857 - val_accuracy: 0.7687\n",
      "Epoch 121/150\n",
      "10500/10500 [==============================] - 0s 46us/step - loss: 0.4368 - accuracy: 0.8250 - val_loss: 0.6153 - val_accuracy: 0.7676\n",
      "Epoch 122/150\n",
      "10500/10500 [==============================] - 0s 46us/step - loss: 0.4184 - accuracy: 0.8310 - val_loss: 0.5993 - val_accuracy: 0.7680\n",
      "Epoch 123/150\n",
      "10500/10500 [==============================] - 0s 45us/step - loss: 0.4238 - accuracy: 0.8278 - val_loss: 0.6495 - val_accuracy: 0.7573\n",
      "Epoch 124/150\n",
      "10500/10500 [==============================] - 0s 45us/step - loss: 0.4231 - accuracy: 0.8325 - val_loss: 0.5906 - val_accuracy: 0.7693\n",
      "Epoch 125/150\n",
      "10500/10500 [==============================] - ETA: 0s - loss: 0.4403 - accuracy: 0.82 - 0s 45us/step - loss: 0.4363 - accuracy: 0.8250 - val_loss: 0.5782 - val_accuracy: 0.7722\n",
      "Epoch 126/150\n",
      "10500/10500 [==============================] - 0s 45us/step - loss: 0.4270 - accuracy: 0.8283 - val_loss: 0.5657 - val_accuracy: 0.7827\n",
      "Epoch 127/150\n",
      "10500/10500 [==============================] - 0s 45us/step - loss: 0.4353 - accuracy: 0.8231 - val_loss: 0.5850 - val_accuracy: 0.7749\n",
      "Epoch 128/150\n",
      "10500/10500 [==============================] - 0s 43us/step - loss: 0.4080 - accuracy: 0.8349 - val_loss: 0.6006 - val_accuracy: 0.7700\n",
      "Epoch 129/150\n",
      "10500/10500 [==============================] - 0s 46us/step - loss: 0.4286 - accuracy: 0.8296 - val_loss: 0.6035 - val_accuracy: 0.7667\n",
      "Epoch 130/150\n",
      "10500/10500 [==============================] - 0s 46us/step - loss: 0.4156 - accuracy: 0.8304 - val_loss: 0.6092 - val_accuracy: 0.7680\n",
      "Epoch 131/150\n",
      "10500/10500 [==============================] - 0s 44us/step - loss: 0.4181 - accuracy: 0.8336 - val_loss: 0.6127 - val_accuracy: 0.7636\n",
      "Epoch 132/150\n",
      "10500/10500 [==============================] - 0s 44us/step - loss: 0.4042 - accuracy: 0.8380 - val_loss: 0.5951 - val_accuracy: 0.7758\n",
      "Epoch 133/150\n",
      "10500/10500 [==============================] - 0s 42us/step - loss: 0.4278 - accuracy: 0.8289 - val_loss: 0.7668 - val_accuracy: 0.7200\n",
      "Epoch 134/150\n",
      "10500/10500 [==============================] - 0s 44us/step - loss: 0.4102 - accuracy: 0.8382 - val_loss: 0.6914 - val_accuracy: 0.7444\n",
      "Epoch 135/150\n",
      "10500/10500 [==============================] - 0s 44us/step - loss: 0.4193 - accuracy: 0.8288 - val_loss: 0.5872 - val_accuracy: 0.7720\n",
      "Epoch 136/150\n",
      "10500/10500 [==============================] - 0s 45us/step - loss: 0.4036 - accuracy: 0.8370 - val_loss: 0.6111 - val_accuracy: 0.7691\n",
      "Epoch 137/150\n",
      "10500/10500 [==============================] - 0s 39us/step - loss: 0.4168 - accuracy: 0.8294 - val_loss: 0.6260 - val_accuracy: 0.7680\n",
      "Epoch 138/150\n",
      "10500/10500 [==============================] - 0s 47us/step - loss: 0.4095 - accuracy: 0.8362 - val_loss: 0.5920 - val_accuracy: 0.7736\n",
      "Epoch 139/150\n",
      "10500/10500 [==============================] - 0s 42us/step - loss: 0.4072 - accuracy: 0.8383 - val_loss: 0.6541 - val_accuracy: 0.7538\n",
      "Epoch 140/150\n",
      "10500/10500 [==============================] - 0s 46us/step - loss: 0.4169 - accuracy: 0.8323 - val_loss: 0.6006 - val_accuracy: 0.7653\n",
      "Epoch 141/150\n",
      "10500/10500 [==============================] - 0s 45us/step - loss: 0.3963 - accuracy: 0.8443 - val_loss: 0.6960 - val_accuracy: 0.7440\n",
      "Epoch 142/150\n",
      "10500/10500 [==============================] - 0s 44us/step - loss: 0.3995 - accuracy: 0.8390 - val_loss: 0.5974 - val_accuracy: 0.7736\n",
      "Epoch 143/150\n",
      "10500/10500 [==============================] - 0s 44us/step - loss: 0.3976 - accuracy: 0.8413 - val_loss: 0.6377 - val_accuracy: 0.7520\n",
      "Epoch 144/150\n",
      "10500/10500 [==============================] - 0s 43us/step - loss: 0.4062 - accuracy: 0.8361 - val_loss: 0.8024 - val_accuracy: 0.7164\n",
      "Epoch 145/150\n",
      "10500/10500 [==============================] - 0s 46us/step - loss: 0.3953 - accuracy: 0.8399 - val_loss: 0.6755 - val_accuracy: 0.7476\n",
      "Epoch 146/150\n",
      "10500/10500 [==============================] - 0s 44us/step - loss: 0.4077 - accuracy: 0.8384 - val_loss: 0.5816 - val_accuracy: 0.7784\n",
      "Epoch 147/150\n",
      "10500/10500 [==============================] - 0s 43us/step - loss: 0.3875 - accuracy: 0.8456 - val_loss: 0.6057 - val_accuracy: 0.7707\n",
      "Epoch 148/150\n",
      "10500/10500 [==============================] - 0s 41us/step - loss: 0.4061 - accuracy: 0.8370 - val_loss: 0.6113 - val_accuracy: 0.7711\n",
      "Epoch 149/150\n",
      "10500/10500 [==============================] - 0s 44us/step - loss: 0.3839 - accuracy: 0.8467 - val_loss: 0.7070 - val_accuracy: 0.7469\n",
      "Epoch 150/150\n",
      "10500/10500 [==============================] - 0s 45us/step - loss: 0.4018 - accuracy: 0.8418 - val_loss: 0.6311 - val_accuracy: 0.7669\n",
      "dict_keys(['val_loss', 'val_accuracy', 'loss', 'accuracy'])\n"
     ]
    }
   ],
   "source": [
    "training = model.fit(train_X, train_Y,\n",
    "          epochs=num_epochs,\n",
    "          batch_size=512,\n",
    "          validation_data=(val_X, val_Y))\n",
    "\n",
    "print(training.history.keys())"
   ]
  },
  {
   "cell_type": "code",
   "execution_count": 49,
   "metadata": {},
   "outputs": [
    {
     "name": "stdout",
     "output_type": "stream",
     "text": [
      "Saved task 1 model to disk\n"
     ]
    }
   ],
   "source": [
    "# serialize model to JSON\n",
    "model_json = model.to_json()\n",
    "with open(\"task1model.json\", \"w\") as json_file:\n",
    "    json_file.write(model_json)\n",
    "# serialize weights to HDF5\n",
    "model.save_weights(\"task1weights.h5\")\n",
    "print(\"Saved task 1 model to disk\")"
   ]
  },
  {
   "cell_type": "markdown",
   "metadata": {},
   "source": [
    "#### Plotting the training and Validation loss as function of epochs"
   ]
  },
  {
   "cell_type": "code",
   "execution_count": 37,
   "metadata": {},
   "outputs": [],
   "source": [
    "val_loss = training.history['val_loss']\n",
    "val_accuracy = training.history['val_accuracy']\n",
    "loss = training.history['loss']\n",
    "accuracy = training.history['accuracy']\n",
    "epochs = range(1, len(accuracy)+1)"
   ]
  },
  {
   "cell_type": "code",
   "execution_count": 38,
   "metadata": {},
   "outputs": [
    {
     "data": {
      "image/png": "[encoded data removed]",
      "text/plain": [
       "<Figure size 432x288 with 1 Axes>"
      ]
     },
     "metadata": {
      "needs_background": "light"
     },
     "output_type": "display_data"
    }
   ],
   "source": [
    "plt.plot(epochs, loss, 'bo', label='Training Loss')\n",
    "plt.plot(epochs, val_loss, 'b', label='Validation Loss')\n",
    "plt.title('Training and Validation Loss')\n",
    "plt.xlabel('Epochs')\n",
    "plt.ylabel('Loss')\n",
    "plt.legend()\n",
    "plt.show()"
   ]
  },
  {
   "cell_type": "markdown",
   "metadata": {},
   "source": [
    "#### Plotting the training and Validation accuracy as function of epochs"
   ]
  },
  {
   "cell_type": "code",
   "execution_count": 39,
   "metadata": {},
   "outputs": [
    {
     "data": {
      "image/png": "[encoded data removed]",
      "text/plain": [
       "<Figure size 432x288 with 1 Axes>"
      ]
     },
     "metadata": {
      "needs_background": "light"
     },
     "output_type": "display_data"
    }
   ],
   "source": [
    "plt.plot(epochs, accuracy, 'bo', label='Training Accuracy')\n",
    "plt.plot(epochs, val_accuracy, 'b', label='Validation Accuracy')\n",
    "plt.title('Training and Validation Accuracy')\n",
    "plt.xlabel('Epochs')\n",
    "plt.ylabel('Accuracy')\n",
    "plt.legend()\n",
    "plt.show()"
   ]
  },
  {
   "cell_type": "code",
   "execution_count": 40,
   "metadata": {},
   "outputs": [
    {
     "name": "stdout",
     "output_type": "stream",
     "text": [
      "3000/3000 [==============================] - 0s 31us/step\n",
      "[0.609482958316803, 0.7730000019073486]\n"
     ]
    }
   ],
   "source": [
    "results = model.evaluate(test_X, test_Y)\n",
    "print(results)"
   ]
  },
  {
   "cell_type": "markdown",
   "metadata": {},
   "source": [
    "#### Comparing the performance with a random classifier"
   ]
  },
  {
   "cell_type": "code",
   "execution_count": 41,
   "metadata": {},
   "outputs": [
    {
     "name": "stdout",
     "output_type": "stream",
     "text": [
      "0.338\n"
     ]
    }
   ],
   "source": [
    "testlabels_copy = np.copy(testlabels)\n",
    "np.random.shuffle(testlabels)\n",
    "hits_array = np.array(testlabels) == np.array(testlabels_copy)\n",
    "print(np.sum(hits_array)/len(test_Y))\n"
   ]
  },
  {
   "cell_type": "code",
   "execution_count": 48,
   "metadata": {},
   "outputs": [
    {
     "name": "stdout",
     "output_type": "stream",
     "text": [
      "True class: [1]\n",
      "Prediction: 1\n"
     ]
    },
    {
     "data": {
      "image/png": "[encoded data removed]",
      "text/plain": [
       "<Figure size 432x288 with 1 Axes>"
      ]
     },
     "metadata": {
      "needs_background": "light"
     },
     "output_type": "display_data"
    }
   ],
   "source": [
    "plt.imshow(testImages[12])\n",
    "print(\"True class: \" + str(testlabels[12]))\n",
    "prediction = model.predict(np.array([test_X[12]]))\n",
    "predClass = np.argmax(prediction)\n",
    "print(\"Prediction: \"+ str(predClass))"
   ]
  },
  {
   "cell_type": "code",
   "execution_count": null,
   "metadata": {},
   "outputs": [],
   "source": []
  }
 ],
 "metadata": {
  "kernelspec": {
   "display_name": "Python 3",
   "language": "python",
   "name": "python3"
  },
  "language_info": {
   "codemirror_mode": {
    "name": "ipython",
    "version": 3
   },
   "file_extension": ".py",
   "mimetype": "text/x-python",
   "name": "python",
   "nbconvert_exporter": "python",
   "pygments_lexer": "ipython3",
   "version": "3.7.3"
  }
 },
 "nbformat": 4,
 "nbformat_minor": 2
}
