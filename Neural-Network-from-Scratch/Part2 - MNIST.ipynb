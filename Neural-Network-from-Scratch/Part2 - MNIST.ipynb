{
 "cells": [
  {
   "cell_type": "code",
   "execution_count": 106,
   "metadata": {},
   "outputs": [],
   "source": [
    "import numpy as np\n",
    "from keras.datasets import mnist\n",
    "from Model import Model\n",
    "import pickle\n",
    "\n",
    "import matplotlib.pyplot as plt"
   ]
  },
  {
   "cell_type": "code",
   "execution_count": 2,
   "metadata": {},
   "outputs": [
    {
     "name": "stdout",
     "output_type": "stream",
     "text": [
      "Downloading data from https://s3.amazonaws.com/img-datasets/mnist.npz\n",
      "11493376/11490434 [==============================] - 3s 0us/step\n"
     ]
    }
   ],
   "source": [
    "(train_X, train_Y), (test_X, test_Y) = mnist.load_data()"
   ]
  },
  {
   "cell_type": "code",
   "execution_count": 3,
   "metadata": {},
   "outputs": [
    {
     "data": {
      "text/plain": [
       "(array([0, 1, 2, 3, 4, 5, 6, 7, 8, 9], dtype=uint8),\n",
       " array([5923, 6742, 5958, 6131, 5842, 5421, 5918, 6265, 5851, 5949],\n",
       "       dtype=int64))"
      ]
     },
     "execution_count": 3,
     "metadata": {},
     "output_type": "execute_result"
    }
   ],
   "source": [
    "#Checking distribution of targets in training data\n",
    "np.unique(train_Y, return_counts=True)"
   ]
  },
  {
   "cell_type": "markdown",
   "metadata": {},
   "source": [
    "#### Selecting subset of 3 classes"
   ]
  },
  {
   "cell_type": "code",
   "execution_count": 4,
   "metadata": {},
   "outputs": [],
   "source": [
    "def filterData(x, y, classes):\n",
    "    x_filt = []\n",
    "    y_filt = []\n",
    "    for i in range(0, len(y)):\n",
    "        if y[i] in classes:\n",
    "            y_filt.append(y[i])\n",
    "            x_filt.append(x[i])\n",
    "    return np.array(x_filt), np.array(y_filt)"
   ]
  },
  {
   "cell_type": "code",
   "execution_count": 5,
   "metadata": {},
   "outputs": [],
   "source": [
    "classes = [0, 1, 2]\n",
    "train_X, train_Y = filterData(train_X, train_Y, classes)\n",
    "test_X, test_Y = filterData(test_X, test_Y, classes)\n",
    "testImages = test_X"
   ]
  },
  {
   "cell_type": "markdown",
   "metadata": {},
   "source": [
    "#### Normalize the features"
   ]
  },
  {
   "cell_type": "code",
   "execution_count": 6,
   "metadata": {},
   "outputs": [],
   "source": [
    "train_X = train_X.astype('float32')\n",
    "test_X = test_X.astype('float32')\n",
    "train_X = train_X / 255\n",
    "test_X = test_X / 255"
   ]
  },
  {
   "cell_type": "markdown",
   "metadata": {},
   "source": [
    "#### Splitting training set into training and validation sets"
   ]
  },
  {
   "cell_type": "code",
   "execution_count": 7,
   "metadata": {},
   "outputs": [],
   "source": [
    "val_X = train_X[:4500]\n",
    "train_X = train_X[4500:]\n",
    "val_Y = train_Y[:4500]\n",
    "train_Y = train_Y[4500:]"
   ]
  },
  {
   "cell_type": "code",
   "execution_count": 8,
   "metadata": {},
   "outputs": [
    {
     "data": {
      "text/plain": [
       "(14123, 28, 28)"
      ]
     },
     "execution_count": 8,
     "metadata": {},
     "output_type": "execute_result"
    }
   ],
   "source": [
    "train_X.shape"
   ]
  },
  {
   "cell_type": "code",
   "execution_count": 9,
   "metadata": {},
   "outputs": [
    {
     "data": {
      "text/plain": [
       "(14123,)"
      ]
     },
     "execution_count": 9,
     "metadata": {},
     "output_type": "execute_result"
    }
   ],
   "source": [
    "train_Y.shape"
   ]
  },
  {
   "cell_type": "code",
   "execution_count": 10,
   "metadata": {},
   "outputs": [
    {
     "data": {
      "text/plain": [
       "(4500, 28, 28)"
      ]
     },
     "execution_count": 10,
     "metadata": {},
     "output_type": "execute_result"
    }
   ],
   "source": [
    "val_X.shape"
   ]
  },
  {
   "cell_type": "code",
   "execution_count": 11,
   "metadata": {},
   "outputs": [
    {
     "data": {
      "text/plain": [
       "(4500,)"
      ]
     },
     "execution_count": 11,
     "metadata": {},
     "output_type": "execute_result"
    }
   ],
   "source": [
    "val_Y.shape"
   ]
  },
  {
   "cell_type": "markdown",
   "metadata": {},
   "source": [
    "#### Vectorizing images"
   ]
  },
  {
   "cell_type": "code",
   "execution_count": 12,
   "metadata": {},
   "outputs": [],
   "source": [
    "def vectorizeImages(imageData):\n",
    "    return imageData.reshape(imageData.shape[0], np.prod(imageData.shape[1:]))"
   ]
  },
  {
   "cell_type": "code",
   "execution_count": 13,
   "metadata": {},
   "outputs": [
    {
     "data": {
      "text/plain": [
       "(14123, 784)"
      ]
     },
     "execution_count": 13,
     "metadata": {},
     "output_type": "execute_result"
    }
   ],
   "source": [
    "train_X = vectorizeImages(train_X)\n",
    "train_X.shape"
   ]
  },
  {
   "cell_type": "code",
   "execution_count": 14,
   "metadata": {},
   "outputs": [
    {
     "data": {
      "text/plain": [
       "(4500, 784)"
      ]
     },
     "execution_count": 14,
     "metadata": {},
     "output_type": "execute_result"
    }
   ],
   "source": [
    "val_X = vectorizeImages(val_X)\n",
    "val_X.shape"
   ]
  },
  {
   "cell_type": "code",
   "execution_count": 15,
   "metadata": {},
   "outputs": [
    {
     "data": {
      "text/plain": [
       "(3147, 784)"
      ]
     },
     "execution_count": 15,
     "metadata": {},
     "output_type": "execute_result"
    }
   ],
   "source": [
    "test_X = vectorizeImages(test_X)\n",
    "test_X.shape"
   ]
  },
  {
   "cell_type": "markdown",
   "metadata": {},
   "source": [
    "#### Encoding target values"
   ]
  },
  {
   "cell_type": "code",
   "execution_count": 16,
   "metadata": {},
   "outputs": [],
   "source": [
    "def getOneHotEncoding(y):\n",
    "    res=[]\n",
    "    uniqY = np.unique(y)\n",
    "    for i in y:\n",
    "        v = np.zeros(len(uniqY))\n",
    "        ind = np.where(uniqY == i)[0][0]\n",
    "        v[ind] = 1\n",
    "        res.append(v)\n",
    "    return np.array(res)"
   ]
  },
  {
   "cell_type": "code",
   "execution_count": 17,
   "metadata": {},
   "outputs": [
    {
     "data": {
      "text/plain": [
       "(14123, 3)"
      ]
     },
     "execution_count": 17,
     "metadata": {},
     "output_type": "execute_result"
    }
   ],
   "source": [
    "train_Y = getOneHotEncoding(train_Y)\n",
    "train_Y.shape"
   ]
  },
  {
   "cell_type": "code",
   "execution_count": 18,
   "metadata": {},
   "outputs": [
    {
     "data": {
      "text/plain": [
       "(4500, 3)"
      ]
     },
     "execution_count": 18,
     "metadata": {},
     "output_type": "execute_result"
    }
   ],
   "source": [
    "val_Y = getOneHotEncoding(val_Y)\n",
    "val_Y.shape"
   ]
  },
  {
   "cell_type": "code",
   "execution_count": 19,
   "metadata": {},
   "outputs": [
    {
     "data": {
      "text/plain": [
       "(3147, 3)"
      ]
     },
     "execution_count": 19,
     "metadata": {},
     "output_type": "execute_result"
    }
   ],
   "source": [
    "testlabels = test_Y\n",
    "test_Y = getOneHotEncoding(test_Y)\n",
    "test_Y.shape"
   ]
  },
  {
   "cell_type": "markdown",
   "metadata": {},
   "source": [
    "#### Run this to load model from json file"
   ]
  },
  {
   "cell_type": "code",
   "execution_count": 110,
   "metadata": {},
   "outputs": [
    {
     "name": "stdout",
     "output_type": "stream",
     "text": [
      "Loaded model from disk\n"
     ]
    }
   ],
   "source": [
    "with open(\"task2MNISTmodel.txt\", \"rb\") as fp:   # Unpickling\n",
    "    model = pickle.load(fp)\n",
    "print(\"Loaded model from disk\")"
   ]
  },
  {
   "cell_type": "markdown",
   "metadata": {},
   "source": [
    "#### Build Neural Network"
   ]
  },
  {
   "cell_type": "code",
   "execution_count": 99,
   "metadata": {},
   "outputs": [],
   "source": [
    "model = Model()\n",
    "model.build(train_X.shape[1],train_Y.shape[1],[64,16])"
   ]
  },
  {
   "cell_type": "code",
   "execution_count": 100,
   "metadata": {},
   "outputs": [
    {
     "name": "stdout",
     "output_type": "stream",
     "text": [
      "Epoch: 0\n",
      "{'Training_Loss': 1.2081489888494168, 'Training_Accuracy': 39.59, 'Validation_Loss': 1.2260485487236217, 'Validation_Accuracy': 37.69}\n",
      "Epoch: 1\n",
      "{'Training_Loss': 1.0336857723831563, 'Training_Accuracy': 47.07, 'Validation_Loss': 1.0372126669185149, 'Validation_Accuracy': 45.78}\n",
      "Epoch: 2\n",
      "{'Training_Loss': 0.9450512994402772, 'Training_Accuracy': 54.82, 'Validation_Loss': 0.9417632090392439, 'Validation_Accuracy': 53.47}\n",
      "Epoch: 3\n",
      "{'Training_Loss': 0.8933044892994617, 'Training_Accuracy': 63.31, 'Validation_Loss': 0.8865037055098522, 'Validation_Accuracy': 63.93}\n",
      "Epoch: 4\n",
      "{'Training_Loss': 0.861166565525899, 'Training_Accuracy': 66.15, 'Validation_Loss': 0.8524255206655792, 'Validation_Accuracy': 66.69}\n",
      "Epoch: 5\n",
      "{'Training_Loss': 0.8404197746791257, 'Training_Accuracy': 67.37, 'Validation_Loss': 0.8305263995892, 'Validation_Accuracy': 68.33}\n",
      "Epoch: 6\n",
      "{'Training_Loss': 0.8266659596887733, 'Training_Accuracy': 68.17, 'Validation_Loss': 0.8160409722755929, 'Validation_Accuracy': 68.87}\n",
      "Epoch: 7\n",
      "{'Training_Loss': 0.8173512702078222, 'Training_Accuracy': 68.6, 'Validation_Loss': 0.8062364050878374, 'Validation_Accuracy': 69.09}\n",
      "Epoch: 8\n",
      "{'Training_Loss': 0.8109234074330594, 'Training_Accuracy': 68.79, 'Validation_Loss': 0.7994677784119492, 'Validation_Accuracy': 69.36}\n",
      "Epoch: 9\n",
      "{'Training_Loss': 0.8064131528237083, 'Training_Accuracy': 69.02, 'Validation_Loss': 0.7947142723731779, 'Validation_Accuracy': 69.73}\n",
      "Epoch: 10\n",
      "{'Training_Loss': 0.8032024423793142, 'Training_Accuracy': 69.09, 'Validation_Loss': 0.7913269010348171, 'Validation_Accuracy': 69.91}\n",
      "Epoch: 11\n",
      "{'Training_Loss': 0.8008889529441763, 'Training_Accuracy': 69.23, 'Validation_Loss': 0.7888836307095995, 'Validation_Accuracy': 69.93}\n",
      "Epoch: 12\n",
      "{'Training_Loss': 0.7992053142991866, 'Training_Accuracy': 69.23, 'Validation_Loss': 0.787103912053075, 'Validation_Accuracy': 69.93}\n",
      "Epoch: 13\n",
      "{'Training_Loss': 0.7979702324611073, 'Training_Accuracy': 69.27, 'Validation_Loss': 0.7857973247673585, 'Validation_Accuracy': 69.96}\n",
      "Epoch: 14\n",
      "{'Training_Loss': 0.797058466216367, 'Training_Accuracy': 69.28, 'Validation_Loss': 0.7848321483370534, 'Validation_Accuracy': 70.02}\n",
      "Epoch: 15\n",
      "{'Training_Loss': 0.7963820499414752, 'Training_Accuracy': 69.3, 'Validation_Loss': 0.7841157360768723, 'Validation_Accuracy': 70.0}\n",
      "Epoch: 16\n",
      "{'Training_Loss': 0.7958783116058863, 'Training_Accuracy': 69.32, 'Validation_Loss': 0.7835819925965655, 'Validation_Accuracy': 70.04}\n",
      "Epoch: 17\n",
      "{'Training_Loss': 0.7955020637588164, 'Training_Accuracy': 69.35, 'Validation_Loss': 0.7831832054227568, 'Validation_Accuracy': 70.02}\n",
      "Epoch: 18\n",
      "{'Training_Loss': 0.7952204059259345, 'Training_Accuracy': 69.38, 'Validation_Loss': 0.7828846004240801, 'Validation_Accuracy': 70.02}\n",
      "Epoch: 19\n",
      "{'Training_Loss': 0.7950091950066369, 'Training_Accuracy': 69.38, 'Validation_Loss': 0.7826606382168466, 'Validation_Accuracy': 70.04}\n",
      "Epoch: 20\n",
      "{'Training_Loss': 0.7948506038632928, 'Training_Accuracy': 69.37, 'Validation_Loss': 0.7824924479248125, 'Validation_Accuracy': 70.04}\n",
      "Epoch: 21\n",
      "{'Training_Loss': 0.7947314048539931, 'Training_Accuracy': 69.38, 'Validation_Loss': 0.7823660199590358, 'Validation_Accuracy': 70.04}\n",
      "Epoch: 22\n",
      "{'Training_Loss': 0.7946417460216616, 'Training_Accuracy': 69.38, 'Validation_Loss': 0.7822709155904324, 'Validation_Accuracy': 70.07}\n",
      "Epoch: 23\n",
      "{'Training_Loss': 0.7945742682425564, 'Training_Accuracy': 69.39, 'Validation_Loss': 0.7821993348554056, 'Validation_Accuracy': 70.07}\n",
      "Epoch: 24\n",
      "{'Training_Loss': 0.7945234621908499, 'Training_Accuracy': 69.39, 'Validation_Loss': 0.782145436933656, 'Validation_Accuracy': 70.07}\n",
      "Epoch: 25\n",
      "{'Training_Loss': 0.7944851963397417, 'Training_Accuracy': 69.38, 'Validation_Loss': 0.7821048408636947, 'Validation_Accuracy': 70.09}\n",
      "Epoch: 26\n",
      "{'Training_Loss': 0.7944563683745663, 'Training_Accuracy': 69.39, 'Validation_Loss': 0.7820742565506257, 'Validation_Accuracy': 70.09}\n",
      "Epoch: 27\n",
      "{'Training_Loss': 0.7944346465086057, 'Training_Accuracy': 69.39, 'Validation_Loss': 0.7820512107907308, 'Validation_Accuracy': 70.09}\n",
      "Epoch: 28\n",
      "{'Training_Loss': 0.794418276796548, 'Training_Accuracy': 69.39, 'Validation_Loss': 0.7820338431086197, 'Validation_Accuracy': 70.11}\n",
      "Epoch: 29\n",
      "{'Training_Loss': 0.7944059391933082, 'Training_Accuracy': 69.39, 'Validation_Loss': 0.7820207531931321, 'Validation_Accuracy': 70.11}\n",
      "Epoch: 30\n",
      "{'Training_Loss': 0.7943966397886891, 'Training_Accuracy': 69.39, 'Validation_Loss': 0.7820108866475328, 'Validation_Accuracy': 70.11}\n",
      "Epoch: 31\n",
      "{'Training_Loss': 0.7943896299895441, 'Training_Accuracy': 69.39, 'Validation_Loss': 0.7820034492922259, 'Validation_Accuracy': 70.11}\n",
      "Epoch: 32\n",
      "{'Training_Loss': 0.7943843458329838, 'Training_Accuracy': 69.39, 'Validation_Loss': 0.7819978428045191, 'Validation_Accuracy': 70.11}\n",
      "Epoch: 33\n",
      "{'Training_Loss': 0.7943803623715836, 'Training_Accuracy': 69.39, 'Validation_Loss': 0.7819936163373261, 'Validation_Accuracy': 70.11}\n",
      "Epoch: 34\n",
      "{'Training_Loss': 0.7943773593618698, 'Training_Accuracy': 69.39, 'Validation_Loss': 0.7819904301236217, 'Validation_Accuracy': 70.11}\n",
      "Epoch: 35\n",
      "{'Training_Loss': 0.7943750954407232, 'Training_Accuracy': 69.39, 'Validation_Loss': 0.781988028082588, 'Validation_Accuracy': 70.11}\n",
      "Epoch: 36\n",
      "{'Training_Loss': 0.7943733886816696, 'Training_Accuracy': 69.4, 'Validation_Loss': 0.7819862171926052, 'Validation_Accuracy': 70.11}\n",
      "Epoch: 37\n",
      "{'Training_Loss': 0.7943721019501802, 'Training_Accuracy': 69.4, 'Validation_Loss': 0.7819848519547326, 'Validation_Accuracy': 70.11}\n",
      "Epoch: 38\n",
      "{'Training_Loss': 0.7943711318708366, 'Training_Accuracy': 69.4, 'Validation_Loss': 0.7819838226876877, 'Validation_Accuracy': 70.11}\n",
      "Epoch: 39\n",
      "{'Training_Loss': 0.794370400514021, 'Training_Accuracy': 69.4, 'Validation_Loss': 0.7819830467078548, 'Validation_Accuracy': 70.11}\n",
      "Epoch: 40\n",
      "{'Training_Loss': 0.7943698491309512, 'Training_Accuracy': 69.4, 'Validation_Loss': 0.7819824616823742, 'Validation_Accuracy': 70.11}\n",
      "Epoch: 41\n",
      "{'Training_Loss': 0.7943694334318514, 'Training_Accuracy': 69.4, 'Validation_Loss': 0.7819820206193852, 'Validation_Accuracy': 70.11}\n",
      "Epoch: 42\n",
      "{'Training_Loss': 0.7943691200268543, 'Training_Accuracy': 69.4, 'Validation_Loss': 0.7819816880918738, 'Validation_Accuracy': 70.11}\n",
      "Epoch: 43\n",
      "{'Training_Loss': 0.7943688837432267, 'Training_Accuracy': 69.4, 'Validation_Loss': 0.7819814373912607, 'Validation_Accuracy': 70.11}\n",
      "Epoch: 44\n",
      "{'Training_Loss': 0.7943687056029927, 'Training_Accuracy': 69.4, 'Validation_Loss': 0.7819812483816629, 'Validation_Accuracy': 70.11}\n",
      "Epoch: 45\n",
      "{'Training_Loss': 0.7943685712983896, 'Training_Accuracy': 69.4, 'Validation_Loss': 0.7819811058823414, 'Validation_Accuracy': 70.11}\n",
      "Epoch: 46\n",
      "{'Training_Loss': 0.7943684700425302, 'Training_Accuracy': 69.4, 'Validation_Loss': 0.7819809984482529, 'Validation_Accuracy': 70.11}\n",
      "Epoch: 47\n",
      "{'Training_Loss': 0.7943683937029624, 'Training_Accuracy': 69.4, 'Validation_Loss': 0.7819809174507428, 'Validation_Accuracy': 70.11}\n",
      "Epoch: 48\n",
      "{'Training_Loss': 0.7943683361484386, 'Training_Accuracy': 69.4, 'Validation_Loss': 0.7819808563844635, 'Validation_Accuracy': 70.11}\n",
      "Epoch: 49\n",
      "{'Training_Loss': 0.7943682927564645, 'Training_Accuracy': 69.4, 'Validation_Loss': 0.7819808103448763, 'Validation_Accuracy': 70.11}\n"
     ]
    }
   ],
   "source": [
    "lr = 0.001\n",
    "epochs = 50\n",
    "decay = lr/epochs\n",
    "training=model.fit(train_X,train_Y,val_X,val_Y,lr,epochs, decay)"
   ]
  },
  {
   "cell_type": "code",
   "execution_count": 107,
   "metadata": {},
   "outputs": [
    {
     "name": "stdout",
     "output_type": "stream",
     "text": [
      "Saved model to disk\n"
     ]
    }
   ],
   "source": [
    "with open(\"task2MNISTmodel.txt\", \"wb\") as fp:   #Pickling\n",
    "    pickle.dump(model, fp)\n",
    "print(\"Saved model to disk\")"
   ]
  },
  {
   "cell_type": "markdown",
   "metadata": {},
   "source": [
    "#### Plotting the training and Validation loss as function of epochs"
   ]
  },
  {
   "cell_type": "code",
   "execution_count": 101,
   "metadata": {},
   "outputs": [],
   "source": [
    "val_loss = training['Validation_Loss']\n",
    "val_accuracy = training['Validation_Accuracy']\n",
    "loss = training['Training_Loss']\n",
    "accuracy = training['Training_Accuracy']\n",
    "epochs = range(1, len(accuracy)+1)"
   ]
  },
  {
   "cell_type": "code",
   "execution_count": 103,
   "metadata": {},
   "outputs": [
    {
     "data": {
      "image/png": "[encoded data removed]",
      "text/plain": [
       "<Figure size 432x288 with 1 Axes>"
      ]
     },
     "metadata": {
      "needs_background": "light"
     },
     "output_type": "display_data"
    }
   ],
   "source": [
    "plt.plot(epochs, loss, 'bo', label='Training Loss')\n",
    "plt.plot(epochs, val_loss, 'b', label='Validation Loss')\n",
    "plt.title('Training and Validation Loss')\n",
    "plt.xlabel('Epochs')\n",
    "plt.ylabel('Loss')\n",
    "plt.legend()\n",
    "plt.show()"
   ]
  },
  {
   "cell_type": "markdown",
   "metadata": {},
   "source": [
    "#### Plotting the training and Validation accuracy as function of epochs"
   ]
  },
  {
   "cell_type": "code",
   "execution_count": 104,
   "metadata": {},
   "outputs": [
    {
     "data": {
      "image/png": "[encoded data removed]",
      "text/plain": [
       "<Figure size 432x288 with 1 Axes>"
      ]
     },
     "metadata": {
      "needs_background": "light"
     },
     "output_type": "display_data"
    }
   ],
   "source": [
    "plt.plot(epochs, accuracy, 'bo', label='Training Accuracy')\n",
    "plt.plot(epochs, val_accuracy, 'b', label='Validation Accuracy')\n",
    "plt.title('Training and Validation Accuracy')\n",
    "plt.xlabel('Epochs')\n",
    "plt.ylabel('Accuracy')\n",
    "plt.legend()\n",
    "plt.show()"
   ]
  },
  {
   "cell_type": "code",
   "execution_count": 97,
   "metadata": {},
   "outputs": [
    {
     "name": "stdout",
     "output_type": "stream",
     "text": [
      "(0.8257160612858088, 66.03)\n"
     ]
    }
   ],
   "source": [
    "results = model.evaluateModel(test_X, test_Y)\n",
    "print(results)"
   ]
  },
  {
   "cell_type": "markdown",
   "metadata": {},
   "source": [
    "#### Comparing the performance with a random classifier"
   ]
  },
  {
   "cell_type": "code",
   "execution_count": 98,
   "metadata": {},
   "outputs": [
    {
     "name": "stdout",
     "output_type": "stream",
     "text": [
      "0.330791229742612\n"
     ]
    }
   ],
   "source": [
    "testlabels_copy = np.copy(testlabels)\n",
    "np.random.shuffle(testlabels)\n",
    "hits_array = np.array(testlabels) == np.array(testlabels_copy)\n",
    "print(np.sum(hits_array)/len(test_Y))\n"
   ]
  },
  {
   "cell_type": "code",
   "execution_count": null,
   "metadata": {},
   "outputs": [],
   "source": []
  }
 ],
 "metadata": {
  "kernelspec": {
   "display_name": "Python 3",
   "language": "python",
   "name": "python3"
  },
  "language_info": {
   "codemirror_mode": {
    "name": "ipython",
    "version": 3
   },
   "file_extension": ".py",
   "mimetype": "text/x-python",
   "name": "python",
   "nbconvert_exporter": "python",
   "pygments_lexer": "ipython3",
   "version": "3.7.3"
  }
 },
 "nbformat": 4,
 "nbformat_minor": 2
}
