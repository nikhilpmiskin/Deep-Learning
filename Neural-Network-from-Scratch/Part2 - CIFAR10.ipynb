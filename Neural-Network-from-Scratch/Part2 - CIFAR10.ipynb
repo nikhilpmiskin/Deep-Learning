{
 "cells": [
  {
   "cell_type": "code",
   "execution_count": 2,
   "metadata": {},
   "outputs": [],
   "source": [
    "import numpy as np\n",
    "from keras.datasets import cifar10\n",
    "from Model import Model\n",
    "import pickle\n",
    "\n",
    "import matplotlib.pyplot as plt"
   ]
  },
  {
   "cell_type": "code",
   "execution_count": 3,
   "metadata": {},
   "outputs": [],
   "source": [
    "(train_X, train_Y), (test_X, test_Y) = cifar10.load_data()"
   ]
  },
  {
   "cell_type": "code",
   "execution_count": 4,
   "metadata": {},
   "outputs": [
    {
     "data": {
      "text/plain": [
       "(array([0, 1, 2, 3, 4, 5, 6, 7, 8, 9], dtype=uint8),\n",
       " array([5000, 5000, 5000, 5000, 5000, 5000, 5000, 5000, 5000, 5000],\n",
       "       dtype=int64))"
      ]
     },
     "execution_count": 4,
     "metadata": {},
     "output_type": "execute_result"
    }
   ],
   "source": [
    "#Checking distribution of targets in training data\n",
    "np.unique(train_Y, return_counts=True)"
   ]
  },
  {
   "cell_type": "markdown",
   "metadata": {},
   "source": [
    "#### Selecting subset of 3 classes"
   ]
  },
  {
   "cell_type": "code",
   "execution_count": 5,
   "metadata": {},
   "outputs": [],
   "source": [
    "def filterData(x, y, classes):\n",
    "    x_filt = []\n",
    "    y_filt = []\n",
    "    for i in range(0, len(y)):\n",
    "        if y[i] in classes:\n",
    "            y_filt.append(y[i])\n",
    "            x_filt.append(x[i])\n",
    "    return np.array(x_filt), np.array(y_filt)"
   ]
  },
  {
   "cell_type": "code",
   "execution_count": 6,
   "metadata": {},
   "outputs": [],
   "source": [
    "classes = [0, 1, 2]\n",
    "train_X, train_Y = filterData(train_X, train_Y, classes)\n",
    "test_X, test_Y = filterData(test_X, test_Y, classes)\n",
    "testImages = test_X"
   ]
  },
  {
   "cell_type": "markdown",
   "metadata": {},
   "source": [
    "#### Normalize the features"
   ]
  },
  {
   "cell_type": "code",
   "execution_count": 7,
   "metadata": {},
   "outputs": [],
   "source": [
    "train_X = train_X.astype('float32')\n",
    "test_X = test_X.astype('float32')\n",
    "train_X = train_X / 255\n",
    "test_X = test_X / 255"
   ]
  },
  {
   "cell_type": "markdown",
   "metadata": {},
   "source": [
    "#### Splitting training set into training and validation sets"
   ]
  },
  {
   "cell_type": "code",
   "execution_count": 8,
   "metadata": {},
   "outputs": [],
   "source": [
    "val_X = train_X[:4500]\n",
    "train_X = train_X[4500:]\n",
    "val_Y = train_Y[:4500]\n",
    "train_Y = train_Y[4500:]"
   ]
  },
  {
   "cell_type": "code",
   "execution_count": 9,
   "metadata": {},
   "outputs": [
    {
     "data": {
      "text/plain": [
       "(10500, 32, 32, 3)"
      ]
     },
     "execution_count": 9,
     "metadata": {},
     "output_type": "execute_result"
    }
   ],
   "source": [
    "train_X.shape"
   ]
  },
  {
   "cell_type": "code",
   "execution_count": 10,
   "metadata": {},
   "outputs": [
    {
     "data": {
      "text/plain": [
       "(10500, 1)"
      ]
     },
     "execution_count": 10,
     "metadata": {},
     "output_type": "execute_result"
    }
   ],
   "source": [
    "train_Y.shape"
   ]
  },
  {
   "cell_type": "code",
   "execution_count": 11,
   "metadata": {},
   "outputs": [
    {
     "data": {
      "text/plain": [
       "(4500, 32, 32, 3)"
      ]
     },
     "execution_count": 11,
     "metadata": {},
     "output_type": "execute_result"
    }
   ],
   "source": [
    "val_X.shape"
   ]
  },
  {
   "cell_type": "code",
   "execution_count": 13,
   "metadata": {},
   "outputs": [
    {
     "data": {
      "text/plain": [
       "(4500, 1)"
      ]
     },
     "execution_count": 13,
     "metadata": {},
     "output_type": "execute_result"
    }
   ],
   "source": [
    "val_Y.shape"
   ]
  },
  {
   "cell_type": "markdown",
   "metadata": {},
   "source": [
    "#### Vectorizing images"
   ]
  },
  {
   "cell_type": "code",
   "execution_count": 14,
   "metadata": {},
   "outputs": [],
   "source": [
    "def vectorizeImages(imageData):\n",
    "    return imageData.reshape(imageData.shape[0], np.prod(imageData.shape[1:]))"
   ]
  },
  {
   "cell_type": "code",
   "execution_count": 15,
   "metadata": {},
   "outputs": [
    {
     "data": {
      "text/plain": [
       "(10500, 3072)"
      ]
     },
     "execution_count": 15,
     "metadata": {},
     "output_type": "execute_result"
    }
   ],
   "source": [
    "train_X = vectorizeImages(train_X)\n",
    "train_X.shape"
   ]
  },
  {
   "cell_type": "code",
   "execution_count": 16,
   "metadata": {},
   "outputs": [
    {
     "data": {
      "text/plain": [
       "(4500, 3072)"
      ]
     },
     "execution_count": 16,
     "metadata": {},
     "output_type": "execute_result"
    }
   ],
   "source": [
    "val_X = vectorizeImages(val_X)\n",
    "val_X.shape"
   ]
  },
  {
   "cell_type": "code",
   "execution_count": 17,
   "metadata": {},
   "outputs": [
    {
     "data": {
      "text/plain": [
       "(3000, 3072)"
      ]
     },
     "execution_count": 17,
     "metadata": {},
     "output_type": "execute_result"
    }
   ],
   "source": [
    "test_X = vectorizeImages(test_X)\n",
    "test_X.shape"
   ]
  },
  {
   "cell_type": "markdown",
   "metadata": {},
   "source": [
    "#### Encoding target values"
   ]
  },
  {
   "cell_type": "code",
   "execution_count": 19,
   "metadata": {},
   "outputs": [],
   "source": [
    "def getOneHotEncoding(y):\n",
    "    res=[]\n",
    "    uniqY = np.unique(y)\n",
    "    for i in y:\n",
    "        v = np.zeros(len(uniqY))\n",
    "        ind = np.where(uniqY == i)[0][0]\n",
    "        v[ind] = 1\n",
    "        res.append(v)\n",
    "    return np.array(res)"
   ]
  },
  {
   "cell_type": "code",
   "execution_count": 20,
   "metadata": {},
   "outputs": [
    {
     "data": {
      "text/plain": [
       "(10500, 3)"
      ]
     },
     "execution_count": 20,
     "metadata": {},
     "output_type": "execute_result"
    }
   ],
   "source": [
    "train_Y = getOneHotEncoding(train_Y)\n",
    "train_Y.shape"
   ]
  },
  {
   "cell_type": "code",
   "execution_count": 21,
   "metadata": {},
   "outputs": [
    {
     "data": {
      "text/plain": [
       "(4500, 3)"
      ]
     },
     "execution_count": 21,
     "metadata": {},
     "output_type": "execute_result"
    }
   ],
   "source": [
    "val_Y = getOneHotEncoding(val_Y)\n",
    "val_Y.shape"
   ]
  },
  {
   "cell_type": "code",
   "execution_count": 22,
   "metadata": {},
   "outputs": [
    {
     "data": {
      "text/plain": [
       "(3000, 3)"
      ]
     },
     "execution_count": 22,
     "metadata": {},
     "output_type": "execute_result"
    }
   ],
   "source": [
    "testlabels = test_Y\n",
    "test_Y = getOneHotEncoding(test_Y)\n",
    "test_Y.shape"
   ]
  },
  {
   "cell_type": "markdown",
   "metadata": {},
   "source": [
    "#### Run this to load model from json file"
   ]
  },
  {
   "cell_type": "code",
   "execution_count": 95,
   "metadata": {},
   "outputs": [
    {
     "name": "stdout",
     "output_type": "stream",
     "text": [
      "Loaded model from disk\n"
     ]
    }
   ],
   "source": [
    "with open(\"task2CIFARmodel.txt\", \"rb\") as fp:   # Unpickling\n",
    "    model = pickle.load(fp)\n",
    "print(\"Loaded model from disk\")"
   ]
  },
  {
   "cell_type": "markdown",
   "metadata": {},
   "source": [
    "#### Build Neural Network"
   ]
  },
  {
   "cell_type": "code",
   "execution_count": 83,
   "metadata": {},
   "outputs": [],
   "source": [
    "model = Model()\n",
    "model.build(train_X.shape[1],train_Y.shape[1],[64,16])"
   ]
  },
  {
   "cell_type": "code",
   "execution_count": 84,
   "metadata": {
    "scrolled": true
   },
   "outputs": [
    {
     "name": "stdout",
     "output_type": "stream",
     "text": [
      "Epoch: 0\n",
      "{'Training_Loss': 1.1903697535815, 'Training_Accuracy': 36.22, 'Validation_Loss': 1.1950843334118344, 'Validation_Accuracy': 36.31}\n",
      "Epoch: 1\n",
      "{'Training_Loss': 1.1759626111230317, 'Training_Accuracy': 37.41, 'Validation_Loss': 1.1771155442235088, 'Validation_Accuracy': 37.6}\n",
      "Epoch: 2\n",
      "{'Training_Loss': 1.1646110979124604, 'Training_Accuracy': 37.62, 'Validation_Loss': 1.165843092951468, 'Validation_Accuracy': 38.0}\n",
      "Epoch: 3\n",
      "{'Training_Loss': 1.1572804475605134, 'Training_Accuracy': 38.29, 'Validation_Loss': 1.158092368151141, 'Validation_Accuracy': 38.82}\n",
      "Epoch: 4\n",
      "{'Training_Loss': 1.1527312434634276, 'Training_Accuracy': 38.72, 'Validation_Loss': 1.153084459142677, 'Validation_Accuracy': 39.24}\n",
      "Epoch: 5\n",
      "{'Training_Loss': 1.1498937601283148, 'Training_Accuracy': 38.93, 'Validation_Loss': 1.149950532239502, 'Validation_Accuracy': 39.33}\n",
      "Epoch: 6\n",
      "{'Training_Loss': 1.148095309644141, 'Training_Accuracy': 38.91, 'Validation_Loss': 1.1479744469044226, 'Validation_Accuracy': 39.11}\n",
      "Epoch: 7\n",
      "{'Training_Loss': 1.1469414608341624, 'Training_Accuracy': 39.07, 'Validation_Loss': 1.1467133024334408, 'Validation_Accuracy': 39.09}\n",
      "Epoch: 8\n",
      "{'Training_Loss': 1.1461951375967665, 'Training_Accuracy': 39.14, 'Validation_Loss': 1.1459008159294664, 'Validation_Accuracy': 39.18}\n",
      "Epoch: 9\n",
      "{'Training_Loss': 1.145709813196551, 'Training_Accuracy': 39.28, 'Validation_Loss': 1.1453739271605916, 'Validation_Accuracy': 39.27}\n",
      "Epoch: 10\n",
      "{'Training_Loss': 1.145393095772784, 'Training_Accuracy': 39.31, 'Validation_Loss': 1.145030728425696, 'Validation_Accuracy': 39.2}\n",
      "Epoch: 11\n",
      "{'Training_Loss': 1.145185927353725, 'Training_Accuracy': 39.27, 'Validation_Loss': 1.1448065186413257, 'Validation_Accuracy': 39.18}\n",
      "Epoch: 12\n",
      "{'Training_Loss': 1.1450502080167533, 'Training_Accuracy': 39.3, 'Validation_Loss': 1.1446597568957815, 'Validation_Accuracy': 39.2}\n",
      "Epoch: 13\n",
      "{'Training_Loss': 1.144961206222934, 'Training_Accuracy': 39.3, 'Validation_Loss': 1.1445635664075855, 'Validation_Accuracy': 39.2}\n",
      "Epoch: 14\n",
      "{'Training_Loss': 1.1449028019602867, 'Training_Accuracy': 39.36, 'Validation_Loss': 1.1445004676010329, 'Validation_Accuracy': 39.22}\n",
      "Epoch: 15\n",
      "{'Training_Loss': 1.1448644594766444, 'Training_Accuracy': 39.37, 'Validation_Loss': 1.1444590529879335, 'Validation_Accuracy': 39.22}\n",
      "Epoch: 16\n",
      "{'Training_Loss': 1.144839280342079, 'Training_Accuracy': 39.38, 'Validation_Loss': 1.144431860669242, 'Validation_Accuracy': 39.22}\n",
      "Epoch: 17\n",
      "{'Training_Loss': 1.1448227423251058, 'Training_Accuracy': 39.38, 'Validation_Loss': 1.1444140022010332, 'Validation_Accuracy': 39.22}\n",
      "Epoch: 18\n",
      "{'Training_Loss': 1.1448118785688681, 'Training_Accuracy': 39.38, 'Validation_Loss': 1.1444022718390163, 'Validation_Accuracy': 39.22}\n",
      "Epoch: 19\n",
      "{'Training_Loss': 1.1448047416289269, 'Training_Accuracy': 39.38, 'Validation_Loss': 1.1443945659253179, 'Validation_Accuracy': 39.24}\n",
      "Epoch: 20\n",
      "{'Training_Loss': 1.1448000527678204, 'Training_Accuracy': 39.38, 'Validation_Loss': 1.1443895034049936, 'Validation_Accuracy': 39.24}\n",
      "Epoch: 21\n",
      "{'Training_Loss': 1.14479697214873, 'Training_Accuracy': 39.38, 'Validation_Loss': 1.1443861773526744, 'Validation_Accuracy': 39.24}\n",
      "Epoch: 22\n",
      "{'Training_Loss': 1.1447949481105746, 'Training_Accuracy': 39.38, 'Validation_Loss': 1.1443839920867689, 'Validation_Accuracy': 39.24}\n",
      "Epoch: 23\n",
      "{'Training_Loss': 1.144793618250349, 'Training_Accuracy': 39.38, 'Validation_Loss': 1.1443825563064651, 'Validation_Accuracy': 39.24}\n",
      "Epoch: 24\n",
      "{'Training_Loss': 1.144792744479316, 'Training_Accuracy': 39.38, 'Validation_Loss': 1.14438161294687, 'Validation_Accuracy': 39.24}\n"
     ]
    }
   ],
   "source": [
    "lr = 0.001\n",
    "epochs = 25\n",
    "decay = lr/epochs\n",
    "training=model.fit(train_X,train_Y,val_X,val_Y,lr,epochs, decay)"
   ]
  },
  {
   "cell_type": "markdown",
   "metadata": {},
   "source": [
    "#### Save model to disk"
   ]
  },
  {
   "cell_type": "code",
   "execution_count": 96,
   "metadata": {},
   "outputs": [
    {
     "name": "stdout",
     "output_type": "stream",
     "text": [
      "Saved model to disk\n"
     ]
    }
   ],
   "source": [
    "with open(\"task2CIFARmodel.txt\", \"wb\") as fp:   #Pickling\n",
    "    pickle.dump(model, fp)\n",
    "print(\"Saved model to disk\")"
   ]
  },
  {
   "cell_type": "markdown",
   "metadata": {},
   "source": [
    "#### Plotting the training and Validation loss as function of epochs"
   ]
  },
  {
   "cell_type": "code",
   "execution_count": 86,
   "metadata": {},
   "outputs": [],
   "source": [
    "val_loss = training['Validation_Loss']\n",
    "val_accuracy = training['Validation_Accuracy']\n",
    "loss = training['Training_Loss']\n",
    "accuracy = training['Training_Accuracy']\n",
    "epochs = range(1, 25+1)"
   ]
  },
  {
   "cell_type": "code",
   "execution_count": 87,
   "metadata": {},
   "outputs": [
    {
     "data": {
      "image/png": "[encoded data removed]",
      "text/plain": [
       "<Figure size 432x288 with 1 Axes>"
      ]
     },
     "metadata": {
      "needs_background": "light"
     },
     "output_type": "display_data"
    }
   ],
   "source": [
    "plt.plot(epochs, loss[:25], 'bo', label='Training Loss')\n",
    "plt.plot(epochs, val_loss[:25], 'b', label='Validation Loss')\n",
    "plt.title('Training and Validation Loss')\n",
    "plt.xlabel('Epochs')\n",
    "plt.ylabel('Loss')\n",
    "plt.legend()\n",
    "plt.show()"
   ]
  },
  {
   "cell_type": "markdown",
   "metadata": {},
   "source": [
    "#### Plotting the training and Validation accuracy as function of epochs"
   ]
  },
  {
   "cell_type": "code",
   "execution_count": 88,
   "metadata": {},
   "outputs": [
    {
     "data": {
      "image/png": "[encoded data removed]",
      "text/plain": [
       "<Figure size 432x288 with 1 Axes>"
      ]
     },
     "metadata": {
      "needs_background": "light"
     },
     "output_type": "display_data"
    }
   ],
   "source": [
    "plt.plot(epochs, accuracy[:25], 'bo', label='Training Accuracy')\n",
    "plt.plot(epochs, val_accuracy[:25], 'b', label='Validation Accuracy')\n",
    "plt.title('Training and Validation Accuracy')\n",
    "plt.xlabel('Epochs')\n",
    "plt.ylabel('Accuracy')\n",
    "plt.legend()\n",
    "plt.show()"
   ]
  },
  {
   "cell_type": "code",
   "execution_count": 89,
   "metadata": {},
   "outputs": [
    {
     "name": "stdout",
     "output_type": "stream",
     "text": [
      "(1.1343030465977209, 39.73)\n"
     ]
    }
   ],
   "source": [
    "results = model.evaluateModel(test_X, test_Y)\n",
    "print(results)"
   ]
  }
 ],
 "metadata": {
  "kernelspec": {
   "display_name": "Python 3",
   "language": "python",
   "name": "python3"
  },
  "language_info": {
   "codemirror_mode": {
    "name": "ipython",
    "version": 3
   },
   "file_extension": ".py",
   "mimetype": "text/x-python",
   "name": "python",
   "nbconvert_exporter": "python",
   "pygments_lexer": "ipython3",
   "version": "3.7.3"
  }
 },
 "nbformat": 4,
 "nbformat_minor": 2
}
